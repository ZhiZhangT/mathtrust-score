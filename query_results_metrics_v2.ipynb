{
 "cells": [
  {
   "cell_type": "code",
   "execution_count": 1,
   "metadata": {},
   "outputs": [],
   "source": [
    "import pandas as pd\n",
    "import numpy as np\n",
    "import os\n",
    "import sys"
   ]
  },
  {
   "cell_type": "code",
   "execution_count": 2,
   "metadata": {},
   "outputs": [
    {
     "name": "stdout",
     "output_type": "stream",
     "text": [
      "Columns in cite_data:  Index(['use_image', 'retrieved_docs_count', 'use_few_shot', 'query_id',\n",
      "       'user_query', 'generated_question', 'generated_answer', 'citations',\n",
      "       'citation_1_text', 'citation_2_text', 'citation_3_text',\n",
      "       'citation_4_text'],\n",
      "      dtype='object')\n"
     ]
    }
   ],
   "source": [
    "# Load the data with all questions with citations\n",
    "cite_data = pd.read_csv(\"query_results_metrics_v2/query_results_v2_full.csv\")\n",
    "\n",
    "print(\"Columns in cite_data: \", cite_data.columns)"
   ]
  },
  {
   "cell_type": "code",
   "execution_count": 3,
   "metadata": {},
   "outputs": [
    {
     "data": {
      "text/html": [
       "<div>\n",
       "<style scoped>\n",
       "    .dataframe tbody tr th:only-of-type {\n",
       "        vertical-align: middle;\n",
       "    }\n",
       "\n",
       "    .dataframe tbody tr th {\n",
       "        vertical-align: top;\n",
       "    }\n",
       "\n",
       "    .dataframe thead th {\n",
       "        text-align: right;\n",
       "    }\n",
       "</style>\n",
       "<table border=\"1\" class=\"dataframe\">\n",
       "  <thead>\n",
       "    <tr style=\"text-align: right;\">\n",
       "      <th></th>\n",
       "      <th>use_image</th>\n",
       "      <th>retrieved_docs_count</th>\n",
       "      <th>use_few_shot</th>\n",
       "      <th>query_id</th>\n",
       "      <th>user_query</th>\n",
       "      <th>generated_question</th>\n",
       "      <th>generated_answer</th>\n",
       "      <th>citations</th>\n",
       "      <th>citation_1_text</th>\n",
       "      <th>citation_2_text</th>\n",
       "      <th>citation_3_text</th>\n",
       "      <th>citation_4_text</th>\n",
       "    </tr>\n",
       "  </thead>\n",
       "  <tbody>\n",
       "    <tr>\n",
       "      <th>0</th>\n",
       "      <td>False</td>\n",
       "      <td>1</td>\n",
       "      <td>False</td>\n",
       "      <td>01JF744592EPH2XXTYXCZMVQP4</td>\n",
       "      <td>I need some exercises involving matrix multipl...</td>\n",
       "      <td>A science museum offers tickets at different p...</td>\n",
       "      <td>43850</td>\n",
       "      <td>674dcdb4b00b977d048c931b</td>\n",
       "      <td>The admission tickets to the Singapore Zoo are...</td>\n",
       "      <td>NaN</td>\n",
       "      <td>NaN</td>\n",
       "      <td>NaN</td>\n",
       "    </tr>\n",
       "    <tr>\n",
       "      <th>1</th>\n",
       "      <td>False</td>\n",
       "      <td>1</td>\n",
       "      <td>False</td>\n",
       "      <td>01JF744592VMGDKR4BKX9T8TK7</td>\n",
       "      <td>Where can I find practice questions on multipl...</td>\n",
       "      <td>The entrance tickets to the National Aquarium ...</td>\n",
       "      <td>28010</td>\n",
       "      <td>674dcdb4b00b977d048c931b</td>\n",
       "      <td>The admission tickets to the Singapore Zoo are...</td>\n",
       "      <td>NaN</td>\n",
       "      <td>NaN</td>\n",
       "      <td>NaN</td>\n",
       "    </tr>\n",
       "    <tr>\n",
       "      <th>2</th>\n",
       "      <td>False</td>\n",
       "      <td>1</td>\n",
       "      <td>False</td>\n",
       "      <td>01JF744592VJC0GYVQVWTH0RAP</td>\n",
       "      <td>Can you provide practice problems on multiplyi...</td>\n",
       "      <td>The tickets for a city museum are priced at $4...</td>\n",
       "      <td>Totalrevenue=$18,950</td>\n",
       "      <td>674dcdb4b00b977d048c931b</td>\n",
       "      <td>The admission tickets to the Singapore Zoo are...</td>\n",
       "      <td>NaN</td>\n",
       "      <td>NaN</td>\n",
       "      <td>NaN</td>\n",
       "    </tr>\n",
       "    <tr>\n",
       "      <th>3</th>\n",
       "      <td>False</td>\n",
       "      <td>1</td>\n",
       "      <td>False</td>\n",
       "      <td>01JF744592K2JTR2NG3HSHCVAS</td>\n",
       "      <td>Do you have any sample questions on multiplyin...</td>\n",
       "      <td>The entry tickets for a local amusement park a...</td>\n",
       "      <td>40340</td>\n",
       "      <td>674dcdb4b00b977d048c931b</td>\n",
       "      <td>The admission tickets to the Singapore Zoo are...</td>\n",
       "      <td>NaN</td>\n",
       "      <td>NaN</td>\n",
       "      <td>NaN</td>\n",
       "    </tr>\n",
       "    <tr>\n",
       "      <th>4</th>\n",
       "      <td>False</td>\n",
       "      <td>1</td>\n",
       "      <td>False</td>\n",
       "      <td>01JF744SEDV98F8FMMT5642XVN</td>\n",
       "      <td>I need exercises involving calculating mean, m...</td>\n",
       "      <td>Sophia collects data on the number of hours sh...</td>\n",
       "      <td>3hours</td>\n",
       "      <td>674dcd9cb00b977d048c92ff</td>\n",
       "      <td>Ethan measures the amount of rain, in millimet...</td>\n",
       "      <td>NaN</td>\n",
       "      <td>NaN</td>\n",
       "      <td>NaN</td>\n",
       "    </tr>\n",
       "    <tr>\n",
       "      <th>...</th>\n",
       "      <td>...</td>\n",
       "      <td>...</td>\n",
       "      <td>...</td>\n",
       "      <td>...</td>\n",
       "      <td>...</td>\n",
       "      <td>...</td>\n",
       "      <td>...</td>\n",
       "      <td>...</td>\n",
       "      <td>...</td>\n",
       "      <td>...</td>\n",
       "      <td>...</td>\n",
       "      <td>...</td>\n",
       "    </tr>\n",
       "    <tr>\n",
       "      <th>568</th>\n",
       "      <td>False</td>\n",
       "      <td>4</td>\n",
       "      <td>True</td>\n",
       "      <td>01JF77SWDGVGRQ9CXG1NDG03ZB</td>\n",
       "      <td>I need exercises involving evaluating algebrai...</td>\n",
       "      <td>An equation is given as \\( z = 3py - 4m \\). De...</td>\n",
       "      <td>\\(p=\\frac{-2}{9}\\)</td>\n",
       "      <td>674dce18b00b977d048c939f</td>\n",
       "      <td>Given \\( a = 2bv + xk \\), find \\( x \\) when \\(...</td>\n",
       "      <td>NaN</td>\n",
       "      <td>NaN</td>\n",
       "      <td>NaN</td>\n",
       "    </tr>\n",
       "    <tr>\n",
       "      <th>569</th>\n",
       "      <td>False</td>\n",
       "      <td>4</td>\n",
       "      <td>True</td>\n",
       "      <td>01JF77T7P4Q10B5ASTZRCR20PE</td>\n",
       "      <td>Could you give me some problems to practice ev...</td>\n",
       "      <td>Consider the formula \\( c = 3dp - yz \\). Deter...</td>\n",
       "      <td>\\frac{13}{4}</td>\n",
       "      <td>674dce18b00b977d048c939f</td>\n",
       "      <td>Given \\( a = 2bv + xk \\), find \\( x \\) when \\(...</td>\n",
       "      <td>NaN</td>\n",
       "      <td>NaN</td>\n",
       "      <td>NaN</td>\n",
       "    </tr>\n",
       "    <tr>\n",
       "      <th>570</th>\n",
       "      <td>False</td>\n",
       "      <td>4</td>\n",
       "      <td>True</td>\n",
       "      <td>01JF77SXWHDHP98KVQ06RYRYA8</td>\n",
       "      <td>Where can I find practice questions on evaluat...</td>\n",
       "      <td>Given the formula \\( a = b(m - xc) \\), find \\(...</td>\n",
       "      <td>x=\\frac{10}{3}</td>\n",
       "      <td>674dce18b00b977d048c939f</td>\n",
       "      <td>Given \\( a = 2bv + xk \\), find \\( x \\) when \\(...</td>\n",
       "      <td>NaN</td>\n",
       "      <td>NaN</td>\n",
       "      <td>NaN</td>\n",
       "    </tr>\n",
       "    <tr>\n",
       "      <th>571</th>\n",
       "      <td>False</td>\n",
       "      <td>4</td>\n",
       "      <td>True</td>\n",
       "      <td>01JF77T6G9C3DN19THBD6HG2NS</td>\n",
       "      <td>Do you have any sample questions on evaluating...</td>\n",
       "      <td>If the equation \\( z = mwn + p \\) holds true, ...</td>\n",
       "      <td>n=-2</td>\n",
       "      <td>674dce18b00b977d048c939f</td>\n",
       "      <td>Given \\( a = 2bv + xk \\), find \\( x \\) when \\(...</td>\n",
       "      <td>NaN</td>\n",
       "      <td>NaN</td>\n",
       "      <td>NaN</td>\n",
       "    </tr>\n",
       "    <tr>\n",
       "      <th>572</th>\n",
       "      <td>False</td>\n",
       "      <td>4</td>\n",
       "      <td>True</td>\n",
       "      <td>01JF77V4NEW4Y3YCJ1HPGPQSN5</td>\n",
       "      <td>What is the Fibonacci sequence used for in rea...</td>\n",
       "      <td>A farmer wants to distribute 315 apples, 420 o...</td>\n",
       "      <td>105</td>\n",
       "      <td>674dcda0b00b977d048c9308</td>\n",
       "      <td>Mary needs to pack 210 oranges, 252 apples and...</td>\n",
       "      <td>NaN</td>\n",
       "      <td>NaN</td>\n",
       "      <td>NaN</td>\n",
       "    </tr>\n",
       "  </tbody>\n",
       "</table>\n",
       "<p>573 rows × 12 columns</p>\n",
       "</div>"
      ],
      "text/plain": [
       "     use_image  retrieved_docs_count  use_few_shot  \\\n",
       "0        False                     1         False   \n",
       "1        False                     1         False   \n",
       "2        False                     1         False   \n",
       "3        False                     1         False   \n",
       "4        False                     1         False   \n",
       "..         ...                   ...           ...   \n",
       "568      False                     4          True   \n",
       "569      False                     4          True   \n",
       "570      False                     4          True   \n",
       "571      False                     4          True   \n",
       "572      False                     4          True   \n",
       "\n",
       "                       query_id  \\\n",
       "0    01JF744592EPH2XXTYXCZMVQP4   \n",
       "1    01JF744592VMGDKR4BKX9T8TK7   \n",
       "2    01JF744592VJC0GYVQVWTH0RAP   \n",
       "3    01JF744592K2JTR2NG3HSHCVAS   \n",
       "4    01JF744SEDV98F8FMMT5642XVN   \n",
       "..                          ...   \n",
       "568  01JF77SWDGVGRQ9CXG1NDG03ZB   \n",
       "569  01JF77T7P4Q10B5ASTZRCR20PE   \n",
       "570  01JF77SXWHDHP98KVQ06RYRYA8   \n",
       "571  01JF77T6G9C3DN19THBD6HG2NS   \n",
       "572  01JF77V4NEW4Y3YCJ1HPGPQSN5   \n",
       "\n",
       "                                            user_query  \\\n",
       "0    I need some exercises involving matrix multipl...   \n",
       "1    Where can I find practice questions on multipl...   \n",
       "2    Can you provide practice problems on multiplyi...   \n",
       "3    Do you have any sample questions on multiplyin...   \n",
       "4    I need exercises involving calculating mean, m...   \n",
       "..                                                 ...   \n",
       "568  I need exercises involving evaluating algebrai...   \n",
       "569  Could you give me some problems to practice ev...   \n",
       "570  Where can I find practice questions on evaluat...   \n",
       "571  Do you have any sample questions on evaluating...   \n",
       "572  What is the Fibonacci sequence used for in rea...   \n",
       "\n",
       "                                    generated_question      generated_answer  \\\n",
       "0    A science museum offers tickets at different p...                 43850   \n",
       "1    The entrance tickets to the National Aquarium ...                 28010   \n",
       "2    The tickets for a city museum are priced at $4...  Totalrevenue=$18,950   \n",
       "3    The entry tickets for a local amusement park a...                 40340   \n",
       "4    Sophia collects data on the number of hours sh...                3hours   \n",
       "..                                                 ...                   ...   \n",
       "568  An equation is given as \\( z = 3py - 4m \\). De...    \\(p=\\frac{-2}{9}\\)   \n",
       "569  Consider the formula \\( c = 3dp - yz \\). Deter...          \\frac{13}{4}   \n",
       "570  Given the formula \\( a = b(m - xc) \\), find \\(...        x=\\frac{10}{3}   \n",
       "571  If the equation \\( z = mwn + p \\) holds true, ...                  n=-2   \n",
       "572  A farmer wants to distribute 315 apples, 420 o...                   105   \n",
       "\n",
       "                    citations  \\\n",
       "0    674dcdb4b00b977d048c931b   \n",
       "1    674dcdb4b00b977d048c931b   \n",
       "2    674dcdb4b00b977d048c931b   \n",
       "3    674dcdb4b00b977d048c931b   \n",
       "4    674dcd9cb00b977d048c92ff   \n",
       "..                        ...   \n",
       "568  674dce18b00b977d048c939f   \n",
       "569  674dce18b00b977d048c939f   \n",
       "570  674dce18b00b977d048c939f   \n",
       "571  674dce18b00b977d048c939f   \n",
       "572  674dcda0b00b977d048c9308   \n",
       "\n",
       "                                       citation_1_text citation_2_text  \\\n",
       "0    The admission tickets to the Singapore Zoo are...             NaN   \n",
       "1    The admission tickets to the Singapore Zoo are...             NaN   \n",
       "2    The admission tickets to the Singapore Zoo are...             NaN   \n",
       "3    The admission tickets to the Singapore Zoo are...             NaN   \n",
       "4    Ethan measures the amount of rain, in millimet...             NaN   \n",
       "..                                                 ...             ...   \n",
       "568  Given \\( a = 2bv + xk \\), find \\( x \\) when \\(...             NaN   \n",
       "569  Given \\( a = 2bv + xk \\), find \\( x \\) when \\(...             NaN   \n",
       "570  Given \\( a = 2bv + xk \\), find \\( x \\) when \\(...             NaN   \n",
       "571  Given \\( a = 2bv + xk \\), find \\( x \\) when \\(...             NaN   \n",
       "572  Mary needs to pack 210 oranges, 252 apples and...             NaN   \n",
       "\n",
       "    citation_3_text citation_4_text  \n",
       "0               NaN             NaN  \n",
       "1               NaN             NaN  \n",
       "2               NaN             NaN  \n",
       "3               NaN             NaN  \n",
       "4               NaN             NaN  \n",
       "..              ...             ...  \n",
       "568             NaN             NaN  \n",
       "569             NaN             NaN  \n",
       "570             NaN             NaN  \n",
       "571             NaN             NaN  \n",
       "572             NaN             NaN  \n",
       "\n",
       "[573 rows x 12 columns]"
      ]
     },
     "metadata": {},
     "output_type": "display_data"
    }
   ],
   "source": [
    "display(cite_data)"
   ]
  },
  {
   "cell_type": "code",
   "execution_count": 4,
   "metadata": {},
   "outputs": [
    {
     "name": "stdout",
     "output_type": "stream",
     "text": [
      "Group: (False, 1, False)\n",
      "Group: (False, 1, True)\n",
      "Group: (False, 2, False)\n",
      "Group: (False, 2, True)\n",
      "Group: (False, 3, False)\n",
      "Group: (False, 3, True)\n",
      "Group: (False, 4, False)\n",
      "Group: (False, 4, True)\n",
      "Group: (True, 1, False)\n",
      "Group: (True, 1, True)\n",
      "Group: (True, 2, False)\n",
      "Group: (True, 2, True)\n",
      "Group: (True, 3, False)\n",
      "Group: (True, 3, True)\n",
      "Group: (True, 4, False)\n",
      "Group: (True, 4, True)\n"
     ]
    }
   ],
   "source": [
    "# Columns to group by\n",
    "group_columns = ['use_image', 'retrieved_docs_count', 'use_few_shot']\n",
    "\n",
    "# Split dataframe into groups\n",
    "split_dataframes = {\n",
    "    group_key: group_df.reset_index(drop=True)\n",
    "    for group_key, group_df in cite_data.groupby(group_columns)\n",
    "}\n",
    "\n",
    "files = []\n",
    "# Display the resulting dataframes\n",
    "for group_key, group_df in split_dataframes.items():\n",
    "    print(f\"Group: {group_key}\")\n",
    "    \n",
    "    # Save the group to a csv file\n",
    "    group_df.to_csv(f\"query_results_metrics_v2/query_results_v2_{group_key}.csv\", index=False)\n",
    "    files.append(f\"query_results_metrics_v2/query_results_v2_{group_key}.csv\")\n",
    "    \n"
   ]
  },
  {
   "cell_type": "markdown",
   "metadata": {},
   "source": [
    "# Calculate New Citation Groundness Score"
   ]
  },
  {
   "cell_type": "code",
   "execution_count": 5,
   "metadata": {},
   "outputs": [
    {
     "name": "stderr",
     "output_type": "stream",
     "text": [
      "/opt/miniconda3/envs/cite/lib/python3.12/site-packages/fuzzywuzzy/fuzz.py:11: UserWarning: Using slow pure-python SequenceMatcher. Install python-Levenshtein to remove this warning\n",
      "  warnings.warn('Using slow pure-python SequenceMatcher. Install python-Levenshtein to remove this warning')\n",
      "/opt/miniconda3/envs/cite/lib/python3.12/site-packages/tqdm/auto.py:21: TqdmWarning: IProgress not found. Please update jupyter and ipywidgets. See https://ipywidgets.readthedocs.io/en/stable/user_install.html\n",
      "  from .autonotebook import tqdm as notebook_tqdm\n"
     ]
    }
   ],
   "source": [
    "import pandas as pd\n",
    "from trust_eval import _run_nli_gpt4\n",
    "\n",
    "def calculate_citation_f1(data: pd.DataFrame):\n",
    "    length_A_r = 0\n",
    "    CR_score = 0\n",
    "    CP_score = 0\n",
    "\n",
    "    for _, row in data.iterrows():   # each user query\n",
    "        claim = row[\"generated_question\"]\n",
    "        docs = [row[\"citation_1_text\"], row[\"citation_2_text\"], row[\"citation_3_text\"], row[\"citation_4_text\"]]\n",
    "        \n",
    "        if claim == \"Error generating output\": # Model did not generate a response\n",
    "            continue\n",
    "\n",
    "        length_A_r += 1\n",
    "\n",
    "        # Calculate CR score for this user query\n",
    "        docs_text = [doc for doc in docs if isinstance(doc, str) and doc.strip()]\n",
    "        concatenated_docs = '| Question: '.join(docs_text)\n",
    "        CR_score += _run_nli_gpt4(concatenated_docs, claim) # Either 1 or 0\n",
    "\n",
    "        # Calculate CP score for this user query\n",
    "        local_CP_score = 0\n",
    "        local_CP_length = 0\n",
    "        for doc in docs:\n",
    "            if isinstance(doc, str) and doc.strip():\n",
    "                local_CP_length += 1\n",
    "                local_CP_score += _run_nli_gpt4(doc, claim)\n",
    "\n",
    "        if local_CP_length > 0:\n",
    "            CP_score += (local_CP_score / local_CP_length)\n",
    "\n",
    "    overall_CR_score = CR_score / length_A_r if length_A_r > 0 else 0\n",
    "    overall_CP_score = CP_score / length_A_r if length_A_r > 0 else 0\n",
    "    overall_CF1_score = 2 * (overall_CR_score * overall_CP_score) / (overall_CR_score + overall_CP_score) if (overall_CR_score + overall_CP_score) > 0 else 0\n",
    "\n",
    "    return {\n",
    "        \"citation_rec\": 100 * overall_CR_score,\n",
    "        \"citation_prec\": 100 * overall_CP_score,\n",
    "        \"citation_f1\": 100 * overall_CF1_score,\n",
    "    }"
   ]
  },
  {
   "cell_type": "code",
   "execution_count": null,
   "metadata": {},
   "outputs": [],
   "source": [
    "citation_results = {}\n",
    "\n",
    "for file in files:\n",
    "    config = file.split(\"_\")[-1].split(\".\")[0]\n",
    "    \n",
    "    data = pd.read_csv(file)\n",
    "    citation_results[config] = calculate_citation_f1(data)"
   ]
  },
  {
   "cell_type": "code",
   "execution_count": 7,
   "metadata": {},
   "outputs": [
    {
     "name": "stdout",
     "output_type": "stream",
     "text": [
      "{'(False, 1, False)': {'citation_rec': 86.11111111111111, 'citation_prec': 94.44444444444444, 'citation_f1': 90.08547008547009}, '(False, 1, True)': {'citation_rec': 66.66666666666666, 'citation_prec': 61.111111111111114, 'citation_f1': 63.76811594202899}, '(False, 2, False)': {'citation_rec': 71.42857142857143, 'citation_prec': 65.71428571428571, 'citation_f1': 68.45238095238095}, '(False, 2, True)': {'citation_rec': 69.44444444444444, 'citation_prec': 59.72222222222222, 'citation_f1': 64.21744324970132}, '(False, 3, False)': {'citation_rec': 65.71428571428571, 'citation_prec': 59.523809523809526, 'citation_f1': 62.46605105920695}, '(False, 3, True)': {'citation_rec': 61.111111111111114, 'citation_prec': 48.148148148148145, 'citation_f1': 53.86064030131826}, '(False, 4, False)': {'citation_rec': 69.44444444444444, 'citation_prec': 53.24074074074075, 'citation_f1': 60.27253668763103}, '(False, 4, True)': {'citation_rec': 69.44444444444444, 'citation_prec': 64.12037037037037, 'citation_f1': 66.67629501251685}, '(True, 1, False)': {'citation_rec': 41.66666666666667, 'citation_prec': 44.44444444444444, 'citation_f1': 43.01075268817204}, '(True, 1, True)': {'citation_rec': 41.66666666666667, 'citation_prec': 38.88888888888889, 'citation_f1': 40.229885057471265}, '(True, 2, False)': {'citation_rec': 55.55555555555556, 'citation_prec': 38.88888888888889, 'citation_f1': 45.751633986928105}, '(True, 2, True)': {'citation_rec': 41.66666666666667, 'citation_prec': 36.11111111111111, 'citation_f1': 38.69047619047619}, '(True, 3, False)': {'citation_rec': 63.888888888888886, 'citation_prec': 34.25925925925926, 'citation_f1': 44.60167714884696}, '(True, 3, True)': {'citation_rec': 58.333333333333336, 'citation_prec': 37.96296296296296, 'citation_f1': 45.99358974358974}, '(True, 4, False)': {'citation_rec': 68.57142857142857, 'citation_prec': 40.71428571428571, 'citation_f1': 51.09243697478991}, '(True, 4, True)': {'citation_rec': 75.0, 'citation_prec': 45.83333333333333, 'citation_f1': 56.896551724137936}}\n"
     ]
    }
   ],
   "source": [
    "print(citation_results)\n",
    "# 'use_image', 'retrieved_docs_count', 'use_few_shot':  \n",
    "\n",
    "# Save the results to a JSON file\n",
    "import json\n",
    "\n",
    "with open(\"query_results_metrics_v2/citation_results_v2.json\", \"w\") as f:\n",
    "    json.dump(citation_results, f, indent=4)\n",
    "    "
   ]
  },
  {
   "cell_type": "markdown",
   "metadata": {},
   "source": [
    "# Measure diversity in generated questions"
   ]
  },
  {
   "cell_type": "code",
   "execution_count": 8,
   "metadata": {},
   "outputs": [],
   "source": [
    "import jellyfish\n",
    "\n",
    "# Measure string metrics between the generated_question and each citation_text\n",
    "def calculate_string_similarities(data: pd.DataFrame):\n",
    "    \n",
    "    # Initialize lists to store the similarity scores for each user query\n",
    "    damerau_levenshtein_sims = []\n",
    "    jaro_winkler_sims = []\n",
    "\n",
    "    for _, row in data.iterrows():\n",
    "        claim = row[\"generated_question\"]\n",
    "        docs = [row[\"citation_1_text\"], row[\"citation_2_text\"], row[\"citation_3_text\"], row[\"citation_4_text\"]]\n",
    "\n",
    "        damerau_levenshtein_scores = []\n",
    "        jaro_winkler_scores = []\n",
    "\n",
    "        for doc in docs:\n",
    "            if isinstance(doc, str) and doc.strip():\n",
    "                # Calculate normalized Damerau-Levenshtein difference\n",
    "                damerau_levenshtein = jellyfish.damerau_levenshtein_distance(claim, doc)\n",
    "                max_len = max(len(claim), len(doc))\n",
    "                damerau_levenshtein_diff = (damerau_levenshtein / max_len) if max_len > 0 else 0\n",
    "                damerau_levenshtein_scores.append(damerau_levenshtein_diff)\n",
    "\n",
    "                # Calculate Jaro-Winkler difference: 1 - similarity\n",
    "                jaro_winkler_diff = 1 - jellyfish.jaro_winkler_similarity(claim, doc)\n",
    "                jaro_winkler_scores.append(jaro_winkler_diff)\n",
    "\n",
    "        # Average the similarities if there are valid citations\n",
    "        if damerau_levenshtein_scores:\n",
    "            damerau_levenshtein_sims.append(sum(damerau_levenshtein_scores) / len(damerau_levenshtein_scores))\n",
    "        else:\n",
    "            damerau_levenshtein_sims.append(0)\n",
    "\n",
    "        if jaro_winkler_scores:\n",
    "            jaro_winkler_sims.append(sum(jaro_winkler_scores) / len(jaro_winkler_scores))\n",
    "        else:\n",
    "            jaro_winkler_sims.append(0)\n",
    "\n",
    "    # Add the similarity columns to the dataframe\n",
    "    data[\"damerau_levenshtein_sim\"] = damerau_levenshtein_sims\n",
    "    data[\"jaro_winkler_sim\"] = jaro_winkler_sims\n",
    "    \n",
    "    # Aggregate each similarity metric across all user queries\n",
    "    damerau_levenshtein_avg = data[\"damerau_levenshtein_sim\"].mean()\n",
    "    jaro_winkler_avg = data[\"jaro_winkler_sim\"].mean()\n",
    "\n",
    "    return data, damerau_levenshtein_avg, jaro_winkler_avg\n"
   ]
  },
  {
   "cell_type": "code",
   "execution_count": 9,
   "metadata": {},
   "outputs": [
    {
     "name": "stdout",
     "output_type": "stream",
     "text": [
      "{'(False, 1, False)': {'damerau_levenshtein_avg': 0.5301238036989334, 'jaro_winkler_avg': 0.2726459698495806}, '(False, 1, True)': {'damerau_levenshtein_avg': 0.5987697131610795, 'jaro_winkler_avg': 0.2874572162097641}, '(False, 2, False)': {'damerau_levenshtein_avg': 0.613509420756076, 'jaro_winkler_avg': 0.3122203885346307}, '(False, 2, True)': {'damerau_levenshtein_avg': 0.6861243363465646, 'jaro_winkler_avg': 0.34660558193130986}, '(False, 3, False)': {'damerau_levenshtein_avg': 0.6183104551410306, 'jaro_winkler_avg': 0.3212183913662756}, '(False, 3, True)': {'damerau_levenshtein_avg': 0.6637922267556979, 'jaro_winkler_avg': 0.3285041802380286}, '(False, 4, False)': {'damerau_levenshtein_avg': 0.6220952078262695, 'jaro_winkler_avg': 0.30813226921266773}, '(False, 4, True)': {'damerau_levenshtein_avg': 0.6125928117812158, 'jaro_winkler_avg': 0.30783776309282107}, '(True, 1, False)': {'damerau_levenshtein_avg': 0.5996655627993822, 'jaro_winkler_avg': 0.284516070667102}, '(True, 1, True)': {'damerau_levenshtein_avg': 0.6174119798383518, 'jaro_winkler_avg': 0.2979685542302301}, '(True, 2, False)': {'damerau_levenshtein_avg': 0.7283580343645485, 'jaro_winkler_avg': 0.35673461867427747}, '(True, 2, True)': {'damerau_levenshtein_avg': 0.7223123145297841, 'jaro_winkler_avg': 0.3526997790031408}, '(True, 3, False)': {'damerau_levenshtein_avg': 0.7137506900839344, 'jaro_winkler_avg': 0.36448144311746217}, '(True, 3, True)': {'damerau_levenshtein_avg': 0.6935659574591214, 'jaro_winkler_avg': 0.3366315653327676}, '(True, 4, False)': {'damerau_levenshtein_avg': 0.6885712076057434, 'jaro_winkler_avg': 0.34192229238993294}, '(True, 4, True)': {'damerau_levenshtein_avg': 0.699999704565438, 'jaro_winkler_avg': 0.3427920861128735}}\n"
     ]
    }
   ],
   "source": [
    "string_diversity_results = {}\n",
    "\n",
    "for file in files:\n",
    "    config = file.split(\"_\")[-1].split(\".\")[0]\n",
    "    \n",
    "    data = pd.read_csv(file)\n",
    "    data, d_l_avg, j_w_avg = calculate_string_similarities(data)\n",
    "    string_diversity_results[config] = {\n",
    "        \"damerau_levenshtein_avg\": d_l_avg,\n",
    "        \"jaro_winkler_avg\": j_w_avg\n",
    "    }\n",
    "    data.to_csv(f\"{file.split('.')[0]}_string_similarities.csv\", index=False)\n",
    "    \n",
    "print(string_diversity_results)\n",
    "\n",
    "# Save the results to a JSON file\n",
    "with open(\"query_results_metrics_v2/string_diversity_results.json\", \"w\") as f:\n",
    "    json.dump(string_diversity_results, f, indent=4)"
   ]
  },
  {
   "cell_type": "markdown",
   "metadata": {},
   "source": [
    "# Generate JSON for trust-align's Grounded Refusal Eval"
   ]
  },
  {
   "cell_type": "code",
   "execution_count": 14,
   "metadata": {},
   "outputs": [
    {
     "name": "stdout",
     "output_type": "stream",
     "text": [
      "Updated JSON saved to query_results_metrics_v2/updated_data_(False, 1, False).json\n",
      "Updated JSON saved to query_results_metrics_v2/updated_data_(False, 1, True).json\n",
      "Updated JSON saved to query_results_metrics_v2/updated_data_(False, 2, False).json\n",
      "Updated JSON saved to query_results_metrics_v2/updated_data_(False, 2, True).json\n",
      "Updated JSON saved to query_results_metrics_v2/updated_data_(False, 3, False).json\n",
      "Updated JSON saved to query_results_metrics_v2/updated_data_(False, 3, True).json\n",
      "Updated JSON saved to query_results_metrics_v2/updated_data_(False, 4, False).json\n",
      "Updated JSON saved to query_results_metrics_v2/updated_data_(False, 4, True).json\n",
      "Updated JSON saved to query_results_metrics_v2/updated_data_(True, 1, False).json\n",
      "Updated JSON saved to query_results_metrics_v2/updated_data_(True, 1, True).json\n",
      "Updated JSON saved to query_results_metrics_v2/updated_data_(True, 2, False).json\n",
      "Updated JSON saved to query_results_metrics_v2/updated_data_(True, 2, True).json\n",
      "Updated JSON saved to query_results_metrics_v2/updated_data_(True, 3, False).json\n",
      "Updated JSON saved to query_results_metrics_v2/updated_data_(True, 3, True).json\n",
      "Updated JSON saved to query_results_metrics_v2/updated_data_(True, 4, False).json\n",
      "Updated JSON saved to query_results_metrics_v2/updated_data_(True, 4, True).json\n"
     ]
    }
   ],
   "source": [
    "base_JSON_file = \"emath_qns_eval_data.json\"\n",
    "\n",
    "# Load the base JSON file\n",
    "with open(base_JSON_file, \"r\") as f:\n",
    "    base_JSON = json.load(f)\n",
    "    \n",
    "# Loop through file in files and update the base JSON file's output field\n",
    "for file in files:\n",
    "    config = file.split(\"_\")[-1].split(\".\")[0]\n",
    "    \n",
    "    # Read the CSV file into a DataFrame\n",
    "    df = pd.read_csv(file)\n",
    "    \n",
    "    # Create a dictionary for quick lookups:\n",
    "    # { user_query: generated_question }\n",
    "    update_map = dict(zip(df[\"user_query\"], df[\"generated_question\"]))\n",
    "    \n",
    "    # We will modify a copy of base_JSON to preserve original if needed\n",
    "    updated_JSON = {\"data\": []}\n",
    "    \n",
    "    # Iterate over each entry in base_JSON[\"data\"]\n",
    "    for entry in base_JSON[\"data\"]:\n",
    "        # If the question in the JSON matches a user_query in CSV\n",
    "        q = entry.get(\"question\", \"\")\n",
    "        if q in update_map:\n",
    "            # Update the output field with the generated_question\n",
    "            entry[\"output\"] = update_map[q]\n",
    "        \n",
    "        # Append the (potentially) updated entry to updated_JSON\n",
    "        updated_JSON[\"data\"].append(entry)\n",
    "    \n",
    "    # Save the updated JSON to a new file with the config name\n",
    "    output_file = f\"query_results_metrics_v2/updated_data_{config}.json\"\n",
    "    with open(output_file, \"w\") as out_f:\n",
    "        json.dump(updated_JSON, out_f, indent=4)\n",
    "\n",
    "    print(f\"Updated JSON saved to {output_file}\")"
   ]
  },
  {
   "cell_type": "markdown",
   "metadata": {},
   "source": [
    "# Prepare JSON for entailment evaluation dataset"
   ]
  },
  {
   "cell_type": "code",
   "execution_count": 10,
   "metadata": {},
   "outputs": [],
   "source": [
    "def generate_json_data(data: pd.DataFrame):\n",
    "    json_data = []\n",
    "    questions = set()\n",
    "\n",
    "    for _, row in data.iterrows():\n",
    "        citations = []\n",
    "        for col in [\"citation_1_text\", \"citation_2_text\", \"citation_3_text\", \"citation_4_text\"]:\n",
    "            cited_text = row[col]\n",
    "            if isinstance(cited_text, str) and cited_text.strip():\n",
    "                citations.append({\"cited_text\": cited_text, \"score\": None})\n",
    "\n",
    "        if row[\"generated_question\"] not in questions:\n",
    "            json_data.append({\n",
    "                \"generated_question\": row[\"generated_question\"],\n",
    "                \"citations\": citations\n",
    "            })\n",
    "\n",
    "    with open(\"entailment_eval.json\", \"w\") as f:\n",
    "        json.dump(json_data, f, indent=4)"
   ]
  },
  {
   "cell_type": "code",
   "execution_count": 11,
   "metadata": {},
   "outputs": [],
   "source": [
    "generate_json_data(cite_data)"
   ]
  },
  {
   "cell_type": "code",
   "execution_count": 12,
   "metadata": {},
   "outputs": [],
   "source": [
    "def eval_gpt4o_scores(json_data):\n",
    "    match_count = 0\n",
    "    total_count = 0\n",
    "    \n",
    "    for item in json_data:\n",
    "        claim = item[\"generated_question\"]\n",
    "        for citation in item[\"citations\"]:\n",
    "            total_count += 1\n",
    "            passage = citation[\"cited_text\"]\n",
    "            gpt4o_score = _run_nli_gpt4(passage, claim)\n",
    "            citation[\"gpt4o_score\"] = int(gpt4o_score)\n",
    "            \n",
    "            if int(gpt4o_score) == citation['score']:\n",
    "                match_count += 1\n",
    "                \n",
    "    accuracy = match_count / total_count if total_count > 0 else 0\n",
    "    \n",
    "    # Save the updated JSON data\n",
    "    with open(\"entailment_eval_gpt4o.json\", \"w\") as f:\n",
    "        json.dump(json_data, f, indent=4)\n",
    "        \n",
    "    return accuracy"
   ]
  },
  {
   "cell_type": "code",
   "execution_count": 13,
   "metadata": {},
   "outputs": [
    {
     "name": "stdout",
     "output_type": "stream",
     "text": [
      "Running NLI for GPT-4o...\n",
      "Passage:  The admission tickets to the Singapore Zoo are $50 for an adult, $36 for a child, and $20 for a senior citizen. On a particular Tuesday, there were 212 adults, 251 children, and 15 senior citizens who visited the Singapore Zoo and on a particular Wednesday, there were 231 adults, 266 children, and 12 senior citizens who visited the Singapore Zoo. The number of visitors on the particular Tuesday and Wednesday can be represented by the matrix V = \\begin{pmatrix} 212 & 251 & 15 \\\\ 231 & 266 & 12 \\end{pmatrix}. \\text{ (i) Write a } 3 \\times 1 \\text{ matrix, P, to represent the price of the admission tickets. (ii) Find the matrix } T = VP. \\text{ (iii) Explain what each of the elements represents. (iv) Find the total amount collected from the sales of the tickets for the 2 days.}\n",
      "Claim:  A science museum offers tickets at different prices: $45 for adults, $35 for students, and $25 for children. On a Saturday, the museum recorded 200 adults, 320 students, and 50 children visitors. On Sunday, there were 250 adults, 290 students, and 40 children visitors. Represent the number of visitors on Saturday and Sunday using the matrix \\( V = \\begin{pmatrix} 200 & 320 & 50 \\\\ 250 & 290 & 40 \\end{pmatrix} \\). \n",
      "(i) Formulate a 3 × 1 matrix, P, to represent the ticket prices. (ii) Calculate the matrix \\( T = V \\times P \\). (iii) Clarify what each element of the resultant matrix T signifies. (iv) Determine the total revenue generated from ticket sales over the weekend.\n"
     ]
    },
    {
     "name": "stderr",
     "output_type": "stream",
     "text": [
      "\u001b[32m 2024-12-17 21:24:45,697 - INFO - HTTP Request: POST https://api.openai.com/v1/chat/completions \"HTTP/1.1 200 OK\"\u001b[0m\n"
     ]
    },
    {
     "name": "stdout",
     "output_type": "stream",
     "text": [
      "Entailment Result: 1\n",
      "Running NLI for GPT-4o...\n",
      "Passage:  The admission tickets to the Singapore Zoo are $50 for an adult, $36 for a child, and $20 for a senior citizen. On a particular Tuesday, there were 212 adults, 251 children, and 15 senior citizens who visited the Singapore Zoo and on a particular Wednesday, there were 231 adults, 266 children, and 12 senior citizens who visited the Singapore Zoo. The number of visitors on the particular Tuesday and Wednesday can be represented by the matrix V = \\begin{pmatrix} 212 & 251 & 15 \\\\ 231 & 266 & 12 \\end{pmatrix}. \\text{ (i) Write a } 3 \\times 1 \\text{ matrix, P, to represent the price of the admission tickets. (ii) Find the matrix } T = VP. \\text{ (iii) Explain what each of the elements represents. (iv) Find the total amount collected from the sales of the tickets for the 2 days.}\n",
      "Claim:  The entrance tickets to the National Aquarium are priced at $40 for adults, $28 for children, and $18 for senior citizens. On a Monday, 180 adults, 220 children, and 10 senior citizens bought tickets. On Tuesday, the numbers were 200 adults, 245 children, and 15 senior citizens. The data for the ticket buyers on these days can be represented by the matrix V = \\begin{pmatrix} 180 & 220 & 10 \\\\ 200 & 245 & 15 \\end{pmatrix}. (i) Construct a 3 \\times 1 matrix, P, to represent the price of the tickets. (ii) Calculate the product of the matrices, T = VP. (iii) Interpret what each element of matrix T represents. (iv) Compute the total revenue from ticket sales for both days combined.\n"
     ]
    },
    {
     "name": "stderr",
     "output_type": "stream",
     "text": [
      "\u001b[32m 2024-12-17 21:24:46,312 - INFO - HTTP Request: POST https://api.openai.com/v1/chat/completions \"HTTP/1.1 200 OK\"\u001b[0m\n"
     ]
    },
    {
     "name": "stdout",
     "output_type": "stream",
     "text": [
      "Entailment Result: 1\n",
      "Running NLI for GPT-4o...\n",
      "Passage:  The admission tickets to the Singapore Zoo are $50 for an adult, $36 for a child, and $20 for a senior citizen. On a particular Tuesday, there were 212 adults, 251 children, and 15 senior citizens who visited the Singapore Zoo and on a particular Wednesday, there were 231 adults, 266 children, and 12 senior citizens who visited the Singapore Zoo. The number of visitors on the particular Tuesday and Wednesday can be represented by the matrix V = \\begin{pmatrix} 212 & 251 & 15 \\\\ 231 & 266 & 12 \\end{pmatrix}. \\text{ (i) Write a } 3 \\times 1 \\text{ matrix, P, to represent the price of the admission tickets. (ii) Find the matrix } T = VP. \\text{ (iii) Explain what each of the elements represents. (iv) Find the total amount collected from the sales of the tickets for the 2 days.}\n",
      "Claim:  The tickets for a city museum are priced at $45 for adults, $30 for students, and $25 for children. On a particular Monday, there were 120 adults, 200 students, and 80 children who visited the museum. On a particular Wednesday, the museum attracted 150 adults, 180 students, and 90 children. Represent the number of visitors on these two days using the matrix V = \\begin{pmatrix} 120 & 200 & 80 \\\\ 150 & 180 & 90 \\end{pmatrix}. \\text{(i) Construct a } 3 \\times 1 \\text{ matrix, M, for the ticket prices. (ii) Calculate the matrix product } C = VM. \\text{ (iii) Discuss the significance of each element in matrix } C. \\text{ (iv) Determine the total revenue from ticket sales over these two days.}\n"
     ]
    },
    {
     "name": "stderr",
     "output_type": "stream",
     "text": [
      "\u001b[32m 2024-12-17 21:24:47,057 - INFO - HTTP Request: POST https://api.openai.com/v1/chat/completions \"HTTP/1.1 200 OK\"\u001b[0m\n"
     ]
    },
    {
     "name": "stdout",
     "output_type": "stream",
     "text": [
      "Entailment Result: 0\n",
      "Running NLI for GPT-4o...\n",
      "Passage:  The admission tickets to the Singapore Zoo are $50 for an adult, $36 for a child, and $20 for a senior citizen. On a particular Tuesday, there were 212 adults, 251 children, and 15 senior citizens who visited the Singapore Zoo and on a particular Wednesday, there were 231 adults, 266 children, and 12 senior citizens who visited the Singapore Zoo. The number of visitors on the particular Tuesday and Wednesday can be represented by the matrix V = \\begin{pmatrix} 212 & 251 & 15 \\\\ 231 & 266 & 12 \\end{pmatrix}. \\text{ (i) Write a } 3 \\times 1 \\text{ matrix, P, to represent the price of the admission tickets. (ii) Find the matrix } T = VP. \\text{ (iii) Explain what each of the elements represents. (iv) Find the total amount collected from the sales of the tickets for the 2 days.}\n",
      "Claim:  The entry tickets for a local amusement park are priced at $45 for adults, $30 for children, and $25 for senior citizens. On a specific Monday and Tuesday, the number of visitors comprised 190 adults, 240 children, and 20 senior citizens on Monday, and 220 adults, 265 children, and 18 senior citizens on Tuesday. Represent the number of visitors on these days using the matrix V = \\begin{pmatrix} 190 & 240 & 20 \\\\ 220 & 265 & 18 \\end{pmatrix}. \n",
      "\n",
      "(i) Represent the entry prices as a 3 \\times 1 matrix, P. \n",
      "(ii) Compute the matrix T = VP. \n",
      "(iii) Explain the significance of each element in the resulting matrix. \n",
      "(iv) Determine the total revenue generated from the ticket sales on both days.\n"
     ]
    },
    {
     "name": "stderr",
     "output_type": "stream",
     "text": [
      "\u001b[32m 2024-12-17 21:24:47,636 - INFO - HTTP Request: POST https://api.openai.com/v1/chat/completions \"HTTP/1.1 200 OK\"\u001b[0m\n"
     ]
    },
    {
     "name": "stdout",
     "output_type": "stream",
     "text": [
      "Entailment Result: 1\n",
      "Running NLI for GPT-4o...\n",
      "Passage:  Ethan measures the amount of rain, in millimetres (mm), each day for 31 days. The bar chart shows his results. \n",
      "\n",
      "(a) Write down the median amount of rain.\n",
      "Claim:  Sophia collects data on the number of hours she spends studying each day for a month. The table below shows her results. \\begin{tabular}{|c|c|} \\hline \\text{Day} & \\text{Hours Studied} \\\\ \\hline 1 & 2 \\\\ 2 & 3 \\\\ 3 & 4 \\\\ \\vdots & \\vdots \\\\ 30 & 1 \\\\ 31 & 5 \\\\ \\hline \\end{tabular} (a) Determine the median number of hours she studied.\n"
     ]
    },
    {
     "name": "stderr",
     "output_type": "stream",
     "text": [
      "\u001b[32m 2024-12-17 21:24:48,268 - INFO - HTTP Request: POST https://api.openai.com/v1/chat/completions \"HTTP/1.1 200 OK\"\u001b[0m\n"
     ]
    },
    {
     "name": "stdout",
     "output_type": "stream",
     "text": [
      "Entailment Result: 1\n",
      "Running NLI for GPT-4o...\n",
      "Passage:  Ethan measures the amount of rain, in millimetres (mm), each day for 31 days. The bar chart shows his results. \n",
      "\n",
      "(a) Write down the median amount of rain.\n",
      "Claim:  Sophie is observing the temperatures, in degrees Celsius (°C), each day for a month consisting of 30 days. The line graph below shows her recordings. (a) Determine the median temperature recorded over the month.\n"
     ]
    },
    {
     "name": "stderr",
     "output_type": "stream",
     "text": [
      "\u001b[32m 2024-12-17 21:24:49,333 - INFO - HTTP Request: POST https://api.openai.com/v1/chat/completions \"HTTP/1.1 200 OK\"\u001b[0m\n"
     ]
    },
    {
     "name": "stdout",
     "output_type": "stream",
     "text": [
      "Entailment Result: 1\n",
      "Running NLI for GPT-4o...\n",
      "Passage:  The admission tickets to the Singapore Zoo are $50 for an adult, $36 for a child, and $20 for a senior citizen. On a particular Tuesday, there were 212 adults, 251 children, and 15 senior citizens who visited the Singapore Zoo and on a particular Wednesday, there were 231 adults, 266 children, and 12 senior citizens who visited the Singapore Zoo. The number of visitors on the particular Tuesday and Wednesday can be represented by the matrix V = \\begin{pmatrix} 212 & 251 & 15 \\\\ 231 & 266 & 12 \\end{pmatrix}. \\text{ (i) Write a } 3 \\times 1 \\text{ matrix, P, to represent the price of the admission tickets. (ii) Find the matrix } T = VP. \\text{ (iii) Explain what each of the elements represents. (iv) Find the total amount collected from the sales of the tickets for the 2 days.}\n",
      "Claim:  The admission tickets to the Galactic Space Park are $45 for an adult, $40 for a child, and $25 for a senior citizen. On a particular Thursday, there were 198 adults, 272 children, and 18 senior citizens who visited the park and on the following Friday, there were 223 adults, 287 children, and 14 senior citizens. These numbers can be represented by the matrix V = \\begin{pmatrix} 198 & 272 & 18 \\\\ 223 & 287 & 14 \\end{pmatrix}. (i) Write a 3 \\times 1 matrix, P, to represent the price of the admission tickets. (ii) Calculate the matrix T = VP. (iii) Explain what each of the elements represents. (iv) Determine the total income from ticket sales for these two days.\n"
     ]
    },
    {
     "name": "stderr",
     "output_type": "stream",
     "text": [
      "\u001b[32m 2024-12-17 21:24:50,004 - INFO - HTTP Request: POST https://api.openai.com/v1/chat/completions \"HTTP/1.1 200 OK\"\u001b[0m\n"
     ]
    },
    {
     "name": "stdout",
     "output_type": "stream",
     "text": [
      "Entailment Result: 1\n",
      "Running NLI for GPT-4o...\n",
      "Passage:  Ethan measures the amount of rain, in millimetres (mm), each day for 31 days. The bar chart shows his results. \n",
      "\n",
      "(a) Write down the median amount of rain.\n",
      "Claim:  Lia monitors the daily temperature, in degrees Celsius (°C), for a full month consisting of 30 days. She records these temperatures on a line graph. \\text{\\newline}{\\bf (a)} Calculate the median temperature for the month.\n"
     ]
    },
    {
     "name": "stderr",
     "output_type": "stream",
     "text": [
      "\u001b[32m 2024-12-17 21:24:50,620 - INFO - HTTP Request: POST https://api.openai.com/v1/chat/completions \"HTTP/1.1 200 OK\"\u001b[0m\n"
     ]
    },
    {
     "name": "stdout",
     "output_type": "stream",
     "text": [
      "Entailment Result: 1\n",
      "Running NLI for GPT-4o...\n",
      "Passage:  Ethan measures the amount of rain, in millimetres (mm), each day for 31 days. The bar chart shows his results. \n",
      "\n",
      "(a) Write down the median amount of rain.\n",
      "Claim:  A hotel logs the temperature, in degrees Celsius (°C), every evening for a month of 30 days. The table displays their results. \n",
      "\n",
      "(a) Determine the median temperature recorded over this period.\n"
     ]
    },
    {
     "name": "stderr",
     "output_type": "stream",
     "text": [
      "\u001b[32m 2024-12-17 21:24:51,256 - INFO - HTTP Request: POST https://api.openai.com/v1/chat/completions \"HTTP/1.1 200 OK\"\u001b[0m\n"
     ]
    },
    {
     "name": "stdout",
     "output_type": "stream",
     "text": [
      "Entailment Result: 0\n",
      "Running NLI for GPT-4o...\n",
      "Passage:  Ethan measures the amount of rain, in millimetres (mm), each day for 31 days. The bar chart shows his results. \n",
      "\n",
      "(a) Write down the median amount of rain.\n",
      "Claim:  Lisa tracks the number of minutes she exercises each day over a month (30 days) and records the data. The table displays the number of minutes exercised each day. \\(\\)\n",
      "(a) Determine the median number of minutes spent exercising.\n"
     ]
    },
    {
     "name": "stderr",
     "output_type": "stream",
     "text": [
      "\u001b[32m 2024-12-17 21:24:51,874 - INFO - HTTP Request: POST https://api.openai.com/v1/chat/completions \"HTTP/1.1 200 OK\"\u001b[0m\n"
     ]
    },
    {
     "name": "stdout",
     "output_type": "stream",
     "text": [
      "Entailment Result: 1\n",
      "Running NLI for GPT-4o...\n",
      "Passage:  A, D, B, and C lie on a circle, center O. AP is a tangent to the circle at A and BP is a tangent to the circle at B. \\angle AOB = 142^\\circ \\text{ and } \\angle DAP = 42^\\circ. \\text{ (a) Find the value of (i) } \\angle ACB, \\text{ (ii) } \\angle ADB. \\text{ (b) Is OB parallel to AD? Explain.}\n",
      "Claim:  Consider a circle with center O and points P, Q, X, and Y on its circumference. PX and QY are tangents to the circle at points X and Y, respectively. \\(\\angle XOY = 164^\\circ\\) and \\(\\angle PYX = 48^\\circ\\). (a) Determine the value of (i) \\(\\angle XPY\\), (ii) \\(\\angle XMY\\) where M is on the arc XOY. (b) Is OY parallel to PX? Justify your answer.\n"
     ]
    },
    {
     "name": "stderr",
     "output_type": "stream",
     "text": [
      "\u001b[32m 2024-12-17 21:24:52,804 - INFO - HTTP Request: POST https://api.openai.com/v1/chat/completions \"HTTP/1.1 200 OK\"\u001b[0m\n"
     ]
    },
    {
     "name": "stdout",
     "output_type": "stream",
     "text": [
      "Entailment Result: 1\n",
      "Running NLI for GPT-4o...\n",
      "Passage:  A, D, B, and C lie on a circle, center O. AP is a tangent to the circle at A and BP is a tangent to the circle at B. \\angle AOB = 142^\\circ \\text{ and } \\angle DAP = 42^\\circ. \\text{ (a) Find the value of (i) } \\angle ACB, \\text{ (ii) } \\angle ADB. \\text{ (b) Is OB parallel to AD? Explain.}\n",
      "Claim:  E, F, G, and H lie on a circle, center O. EQ is a tangent to the circle at E and GQ is a tangent to the circle at G. \\( \\angle EOF = 130^\\circ \\text{ and } \\angle FEG = 38^\\circ. \\) (a) Determine (i) \\( \\angle EHG, \\) (ii) \\( \\angle EFG. \\) (b) Is OG parallel to FE? Justify your answer.\n"
     ]
    },
    {
     "name": "stderr",
     "output_type": "stream",
     "text": [
      "\u001b[32m 2024-12-17 21:24:53,536 - INFO - HTTP Request: POST https://api.openai.com/v1/chat/completions \"HTTP/1.1 200 OK\"\u001b[0m\n"
     ]
    },
    {
     "name": "stdout",
     "output_type": "stream",
     "text": [
      "Entailment Result: 1\n",
      "Running NLI for GPT-4o...\n",
      "Passage:  A, D, B, and C lie on a circle, center O. AP is a tangent to the circle at A and BP is a tangent to the circle at B. \\angle AOB = 142^\\circ \\text{ and } \\angle DAP = 42^\\circ. \\text{ (a) Find the value of (i) } \\angle ACB, \\text{ (ii) } \\angle ADB. \\text{ (b) Is OB parallel to AD? Explain.}\n",
      "Claim:  In a circle with center O, points E and F are external to the circle. Line segment EQ is tangent to the circle at E, and line segment FQ is tangent to the circle at F. Provided that \\(\\angle EOF = 128^\\circ\\) and \\(\\angle FEQ = 48^\\circ\\). (a) Determine the value of (i) \\(\\angle EGF\\), (ii) \\(\\angle EFQ\\). (b) Determine whether line OE is parallel to line QF. Provide justification for your answer.\n"
     ]
    },
    {
     "name": "stderr",
     "output_type": "stream",
     "text": [
      "\u001b[32m 2024-12-17 21:24:54,174 - INFO - HTTP Request: POST https://api.openai.com/v1/chat/completions \"HTTP/1.1 200 OK\"\u001b[0m\n"
     ]
    },
    {
     "name": "stdout",
     "output_type": "stream",
     "text": [
      "Entailment Result: 1\n",
      "Running NLI for GPT-4o...\n",
      "Passage:  A, D, B, and C lie on a circle, center O. AP is a tangent to the circle at A and BP is a tangent to the circle at B. \\angle AOB = 142^\\circ \\text{ and } \\angle DAP = 42^\\circ. \\text{ (a) Find the value of (i) } \\angle ACB, \\text{ (ii) } \\angle ADB. \\text{ (b) Is OB parallel to AD? Explain.}\n",
      "Claim:  Points P, Q, R, and S are located on a circle with center O. TP is a tangent to the circle at P, and TQ is a tangent to the circle at Q. \\( \\angle POR = 118^\\circ \\) and \\( \\angle QTP = 37^\\circ \\). (a) Determine the measure of (i) \\( \\angle PSQ \\), (ii) \\( \\angle PRQ \\). (b) Are the lines OQ and TP parallel? Provide justification for your answer.\n"
     ]
    },
    {
     "name": "stderr",
     "output_type": "stream",
     "text": [
      "\u001b[32m 2024-12-17 21:24:54,839 - INFO - HTTP Request: POST https://api.openai.com/v1/chat/completions \"HTTP/1.1 200 OK\"\u001b[0m\n"
     ]
    },
    {
     "name": "stdout",
     "output_type": "stream",
     "text": [
      "Entailment Result: 1\n",
      "Running NLI for GPT-4o...\n",
      "Passage:  The diagram is the speed-time graph for the first k seconds of the motion of an object. (a) Find the acceleration when \\( t = 5 \\).\n",
      "Claim:  A speedboat accelerates uniformly from rest and its speed-time graph for the first few seconds is shown below. (a) Determine the acceleration at the instant when time, \\( t = 4 \\) seconds.\n"
     ]
    },
    {
     "name": "stderr",
     "output_type": "stream",
     "text": [
      "\u001b[32m 2024-12-17 21:24:55,592 - INFO - HTTP Request: POST https://api.openai.com/v1/chat/completions \"HTTP/1.1 200 OK\"\u001b[0m\n"
     ]
    },
    {
     "name": "stdout",
     "output_type": "stream",
     "text": [
      "Entailment Result: 1\n",
      "Running NLI for GPT-4o...\n",
      "Passage:  A, D, B, and C lie on a circle, center O. AP is a tangent to the circle at A and BP is a tangent to the circle at B. \\angle AOB = 142^\\circ \\text{ and } \\angle DAP = 42^\\circ. \\text{ (a) Find the value of (i) } \\angle ACB, \\text{ (ii) } \\angle ADB. \\text{ (b) Is OB parallel to AD? Explain.}\n",
      "Claim:  Points P, Q, R, and S are on a circle centered at O. PQ is a tangent to the circle at P, and QR is a tangent at Q. If \\( \\angle POR = 130^\\circ \\) and \\( \\angle SPQ = 50^\\circ \\), find: (a) (i) \\( \\angle PSR \\) (ii) \\( \\angle PQR \\) (b) Determine whether line OR is parallel to line PS with an explanation.\n"
     ]
    },
    {
     "name": "stderr",
     "output_type": "stream",
     "text": [
      "\u001b[32m 2024-12-17 21:24:56,181 - INFO - HTTP Request: POST https://api.openai.com/v1/chat/completions \"HTTP/1.1 200 OK\"\u001b[0m\n"
     ]
    },
    {
     "name": "stdout",
     "output_type": "stream",
     "text": [
      "Entailment Result: 1\n",
      "Running NLI for GPT-4o...\n",
      "Passage:  The diagram is the speed-time graph for the first k seconds of the motion of an object. (a) Find the acceleration when \\( t = 5 \\).\n",
      "Claim:  A train moves along a straight track, and the speed-time graph for the first 10 seconds of its journey is depicted in a diagram. (a) Calculate the acceleration of the train at time \\( t = 7 \\).\n"
     ]
    },
    {
     "name": "stderr",
     "output_type": "stream",
     "text": [
      "\u001b[32m 2024-12-17 21:24:57,097 - INFO - HTTP Request: POST https://api.openai.com/v1/chat/completions \"HTTP/1.1 200 OK\"\u001b[0m\n"
     ]
    },
    {
     "name": "stdout",
     "output_type": "stream",
     "text": [
      "Entailment Result: 1\n",
      "Running NLI for GPT-4o...\n",
      "Passage:  The diagram is the speed-time graph for the first k seconds of the motion of an object. (a) Find the acceleration when \\( t = 5 \\).\n",
      "Claim:  An elevator ascends vertically with a speed-time graph mapping its motion over the first k seconds. (a) Calculate the acceleration of the elevator when time, \\( t = 10 \\) seconds, assuming the graph exhibits a linear increase in speed during this period.\n"
     ]
    },
    {
     "name": "stderr",
     "output_type": "stream",
     "text": [
      "\u001b[32m 2024-12-17 21:24:57,891 - INFO - HTTP Request: POST https://api.openai.com/v1/chat/completions \"HTTP/1.1 200 OK\"\u001b[0m\n"
     ]
    },
    {
     "name": "stdout",
     "output_type": "stream",
     "text": [
      "Entailment Result: 1\n",
      "Running NLI for GPT-4o...\n",
      "Passage:  The diagram is the speed-time graph for the first k seconds of the motion of an object. (a) Find the acceleration when \\( t = 5 \\).\n",
      "Claim:  A car moves along a straight road, and the speed-time graph for the first k seconds of its journey is shown. (a) Determine the acceleration of the car at time \\( t = 5 \\text{ seconds} \\).\n"
     ]
    },
    {
     "name": "stderr",
     "output_type": "stream",
     "text": [
      "\u001b[32m 2024-12-17 21:24:58,712 - INFO - HTTP Request: POST https://api.openai.com/v1/chat/completions \"HTTP/1.1 200 OK\"\u001b[0m\n"
     ]
    },
    {
     "name": "stdout",
     "output_type": "stream",
     "text": [
      "Entailment Result: 1\n",
      "Running NLI for GPT-4o...\n",
      "Passage:  The diagram is the speed-time graph for the first k seconds of the motion of an object. (a) Find the acceleration when \\( t = 5 \\).\n",
      "Claim:  A car travels along a straight path, and the diagram shows its speed-time graph for the first 8 seconds of its journey. (a) Calculate the car's acceleration at \\( t = 3 \\) seconds.\n"
     ]
    },
    {
     "name": "stderr",
     "output_type": "stream",
     "text": [
      "\u001b[32m 2024-12-17 21:24:59,312 - INFO - HTTP Request: POST https://api.openai.com/v1/chat/completions \"HTTP/1.1 200 OK\"\u001b[0m\n"
     ]
    },
    {
     "name": "stdout",
     "output_type": "stream",
     "text": [
      "Entailment Result: 1\n",
      "Running NLI for GPT-4o...\n",
      "Passage:  (c) Ethan picks one of these days at random. Find the probability that, on that day, the amount of rain was 3 mm or more.\n",
      "Claim:  (d) In a week, Sophia recorded the amounts of daily rain as follows: [5 mm, 1 mm, 0 mm, 3 mm, 7 mm, 8 mm, 4 mm]. Sophia picks one day at random from this week. Calculate the probability that the rainfall on that day was at least 2 mm.\n"
     ]
    },
    {
     "name": "stderr",
     "output_type": "stream",
     "text": [
      "\u001b[32m 2024-12-17 21:25:00,270 - INFO - HTTP Request: POST https://api.openai.com/v1/chat/completions \"HTTP/1.1 200 OK\"\u001b[0m\n"
     ]
    },
    {
     "name": "stdout",
     "output_type": "stream",
     "text": [
      "Entailment Result: 1\n",
      "Running NLI for GPT-4o...\n",
      "Passage:  (c) Ethan picks one of these days at random. Find the probability that, on that day, the amount of rain was 3 mm or more.\n",
      "Claim:  In a small town, the number of cloudy days with rain recorded over a month are as follows: Anil observed rain measurements of 0 mm for 5 days, 1 mm for 6 days, 2 mm for 7 days, 3 mm for 4 days, and 4 mm for 8 days. If Anil randomly selects one day from this month, what is the probability that the rainfall on that day was at least 3 mm?\n"
     ]
    },
    {
     "name": "stderr",
     "output_type": "stream",
     "text": [
      "\u001b[32m 2024-12-17 21:25:00,816 - INFO - HTTP Request: POST https://api.openai.com/v1/chat/completions \"HTTP/1.1 200 OK\"\u001b[0m\n"
     ]
    },
    {
     "name": "stdout",
     "output_type": "stream",
     "text": [
      "Entailment Result: 1\n",
      "Running NLI for GPT-4o...\n",
      "Passage:  (c) Ethan picks one of these days at random. Find the probability that, on that day, the amount of rain was 3 mm or more.\n",
      "Claim:  (c) Maria randomly selects one day in April to observe. Determine the probability that on that day, the rainfall was at least 5 mm.\n"
     ]
    },
    {
     "name": "stderr",
     "output_type": "stream",
     "text": [
      "\u001b[32m 2024-12-17 21:25:01,396 - INFO - HTTP Request: POST https://api.openai.com/v1/chat/completions \"HTTP/1.1 200 OK\"\u001b[0m\n"
     ]
    },
    {
     "name": "stdout",
     "output_type": "stream",
     "text": [
      "Entailment Result: 1\n",
      "Running NLI for GPT-4o...\n",
      "Passage:  (c) Ethan picks one of these days at random. Find the probability that, on that day, the amount of rain was 3 mm or more.\n",
      "Claim:  Maria chooses a random day from her travel journal, which records the temperatures for each day of her vacation. Estimate the probability that on the chosen day, the temperature was at least 25 degrees Celsius.\n"
     ]
    },
    {
     "name": "stderr",
     "output_type": "stream",
     "text": [
      "\u001b[32m 2024-12-17 21:25:02,399 - INFO - HTTP Request: POST https://api.openai.com/v1/chat/completions \"HTTP/1.1 200 OK\"\u001b[0m\n"
     ]
    },
    {
     "name": "stdout",
     "output_type": "stream",
     "text": [
      "Entailment Result: 0\n",
      "Running NLI for GPT-4o...\n",
      "Passage:  (c) Ethan picks one of these days at random. Find the probability that, on that day, the amount of rain was 3 mm or more.\n",
      "Claim:  (c) Claire randomly selects one of the days from the past week. Calculate the probability that on that day, the temperature was 25°C or higher.\n"
     ]
    },
    {
     "name": "stderr",
     "output_type": "stream",
     "text": [
      "\u001b[32m 2024-12-17 21:25:03,071 - INFO - HTTP Request: POST https://api.openai.com/v1/chat/completions \"HTTP/1.1 200 OK\"\u001b[0m\n"
     ]
    },
    {
     "name": "stdout",
     "output_type": "stream",
     "text": [
      "Entailment Result: 0\n",
      "Running NLI for GPT-4o...\n",
      "Passage:  Solve the simultaneous equations: \\( 7x + 2y = 8 \\) and \\( 3x - y = 3 \\).\n",
      "Claim:  A store sells two types of pencils: red pencils and blue pencils. The total cost of 7 red pencils and 2 blue pencils is $8, and the total cost of 3 red pencils minus the cost of a blue pencil is $3. Determine the cost of one red pencil and one blue pencil.\n"
     ]
    },
    {
     "name": "stderr",
     "output_type": "stream",
     "text": [
      "\u001b[32m 2024-12-17 21:25:04,018 - INFO - HTTP Request: POST https://api.openai.com/v1/chat/completions \"HTTP/1.1 200 OK\"\u001b[0m\n"
     ]
    },
    {
     "name": "stdout",
     "output_type": "stream",
     "text": [
      "Entailment Result: 1\n",
      "Running NLI for GPT-4o...\n",
      "Passage:  Solve the simultaneous equations: \\( 7x + 2y = 8 \\) and \\( 3x - y = 3 \\).\n",
      "Claim:  A farmer needs to plant exactly 8 acres of two types of crops: corn and wheat. Each acre of corn yields 7 units of profit, and each acre of wheat yields 2 units of profit. The farmer aims to maximize profit such that the profit from corn minus the profit from wheat equals 3 units. How many acres of corn and wheat should the farmer plant? Solve the equations: \\( 7x + 2y = 8 \\) and \\( 3x - y = 3 \\), where \\( x \\) represents acres of corn and \\( y \\) represents acres of wheat.\n"
     ]
    },
    {
     "name": "stderr",
     "output_type": "stream",
     "text": [
      "\u001b[32m 2024-12-17 21:25:04,772 - INFO - HTTP Request: POST https://api.openai.com/v1/chat/completions \"HTTP/1.1 200 OK\"\u001b[0m\n"
     ]
    },
    {
     "name": "stdout",
     "output_type": "stream",
     "text": [
      "Entailment Result: 1\n",
      "Running NLI for GPT-4o...\n",
      "Passage:  Solve the simultaneous equations: \\( 7x + 2y = 8 \\) and \\( 3x - y = 3 \\).\n",
      "Claim:  Solve the simultaneous equations: \\( 5a + 3b = 12 \\) and \\( 2a - b = 4 \\).\n"
     ]
    },
    {
     "name": "stderr",
     "output_type": "stream",
     "text": [
      "\u001b[32m 2024-12-17 21:25:05,662 - INFO - HTTP Request: POST https://api.openai.com/v1/chat/completions \"HTTP/1.1 200 OK\"\u001b[0m\n"
     ]
    },
    {
     "name": "stdout",
     "output_type": "stream",
     "text": [
      "Entailment Result: 1\n",
      "Running NLI for GPT-4o...\n",
      "Passage:  Solve the simultaneous equations: \\( 7x + 2y = 8 \\) and \\( 3x - y = 3 \\).\n",
      "Claim:  A store sells pens and notebooks. If 7 pens and 2 notebooks cost $8, and 3 pens minus one notebook costs $3, find the cost of one pen and one notebook using simultaneous equations.\n"
     ]
    },
    {
     "name": "stderr",
     "output_type": "stream",
     "text": [
      "\u001b[32m 2024-12-17 21:25:06,537 - INFO - HTTP Request: POST https://api.openai.com/v1/chat/completions \"HTTP/1.1 200 OK\"\u001b[0m\n"
     ]
    },
    {
     "name": "stdout",
     "output_type": "stream",
     "text": [
      "Entailment Result: 1\n",
      "Running NLI for GPT-4o...\n",
      "Passage:  Solve the simultaneous equations: \\( 7x + 2y = 8 \\) and \\( 3x - y = 3 \\).\n",
      "Claim:  Solve the simultaneous equations: \\( 5x + 4y = 18 \\) and \\( x - 3y = -7 \\).\n"
     ]
    },
    {
     "name": "stderr",
     "output_type": "stream",
     "text": [
      "\u001b[32m 2024-12-17 21:25:07,239 - INFO - HTTP Request: POST https://api.openai.com/v1/chat/completions \"HTTP/1.1 200 OK\"\u001b[0m\n"
     ]
    },
    {
     "name": "stdout",
     "output_type": "stream",
     "text": [
      "Entailment Result: 1\n",
      "Running NLI for GPT-4o...\n",
      "Passage:  Given that 2^{32} \\times 1 = 6 \\times 8^x, \\text{ find the value of } x.\n",
      "Claim:  Given that 3^{20} \\times 9 = 27^y, \\text{ find the value of } y.\n"
     ]
    },
    {
     "name": "stderr",
     "output_type": "stream",
     "text": [
      "\u001b[32m 2024-12-17 21:25:07,885 - INFO - HTTP Request: POST https://api.openai.com/v1/chat/completions \"HTTP/1.1 200 OK\"\u001b[0m\n"
     ]
    },
    {
     "name": "stdout",
     "output_type": "stream",
     "text": [
      "Entailment Result: 1\n",
      "Running NLI for GPT-4o...\n",
      "Passage:  Given that 2^{32} \\times 1 = 6 \\times 8^x, \\text{ find the value of } x.\n",
      "Claim:  Find the value of \\( x \\) such that \\( 4^{16} = 3 \\times 12^x \\).\n"
     ]
    },
    {
     "name": "stderr",
     "output_type": "stream",
     "text": [
      "\u001b[32m 2024-12-17 21:25:08,428 - INFO - HTTP Request: POST https://api.openai.com/v1/chat/completions \"HTTP/1.1 200 OK\"\u001b[0m\n"
     ]
    },
    {
     "name": "stdout",
     "output_type": "stream",
     "text": [
      "Entailment Result: 0\n",
      "Running NLI for GPT-4o...\n",
      "Passage:  Given that 2^{32} \\times 1 = 6 \\times 8^x, \\text{ find the value of } x.\n",
      "Claim:  If 4^{16} \\times 3 = 9 \\times 2^{2y}, \\text{ find the value of } y.\n"
     ]
    },
    {
     "name": "stderr",
     "output_type": "stream",
     "text": [
      "\u001b[32m 2024-12-17 21:25:09,115 - INFO - HTTP Request: POST https://api.openai.com/v1/chat/completions \"HTTP/1.1 200 OK\"\u001b[0m\n"
     ]
    },
    {
     "name": "stdout",
     "output_type": "stream",
     "text": [
      "Entailment Result: 1\n",
      "Running NLI for GPT-4o...\n",
      "Passage:  Given that 2^{32} \\times 1 = 6 \\times 8^x, \\text{ find the value of } x.\n",
      "Claim:  If 5^{12} \\times 2 = 4 \\times 10^y, \\text{ find the value of } y.\n"
     ]
    },
    {
     "name": "stderr",
     "output_type": "stream",
     "text": [
      "\u001b[32m 2024-12-17 21:25:09,796 - INFO - HTTP Request: POST https://api.openai.com/v1/chat/completions \"HTTP/1.1 200 OK\"\u001b[0m\n"
     ]
    },
    {
     "name": "stdout",
     "output_type": "stream",
     "text": [
      "Entailment Result: 1\n",
      "Running NLI for GPT-4o...\n",
      "Passage:  Given that 2^{32} \\times 1 = 6 \\times 8^x, \\text{ find the value of } x.\n",
      "Claim:  A quantity that equals \\( 2^{16} \\times 4 = 9^y \\times 3 \\). Find the value of \\( y \\).\n"
     ]
    },
    {
     "name": "stderr",
     "output_type": "stream",
     "text": [
      "\u001b[32m 2024-12-17 21:25:10,998 - INFO - HTTP Request: POST https://api.openai.com/v1/chat/completions \"HTTP/1.1 200 OK\"\u001b[0m\n"
     ]
    },
    {
     "name": "stdout",
     "output_type": "stream",
     "text": [
      "Entailment Result: 1\n",
      "Running NLI for GPT-4o...\n",
      "Passage:  (ii) State the number of each fruit in a fruit basket.\n",
      "Claim:  Alan has 180 bananas, 240 oranges, and 300 apples that he wants to distribute equally among a certain number of fruit baskets without any leftover fruits. What is the greatest number of fruit baskets that can be made evenly? Then, specify how many of each fruit will go into each basket.\n"
     ]
    },
    {
     "name": "stderr",
     "output_type": "stream",
     "text": [
      "\u001b[32m 2024-12-17 21:25:11,601 - INFO - HTTP Request: POST https://api.openai.com/v1/chat/completions \"HTTP/1.1 200 OK\"\u001b[0m\n"
     ]
    },
    {
     "name": "stdout",
     "output_type": "stream",
     "text": [
      "Entailment Result: 0\n",
      "Running NLI for GPT-4o...\n",
      "Passage:  Mary needs to pack 210 oranges, 252 apples and 294 pears into identical fruit baskets. (i) What is the largest possible number of fruit baskets that can be packed?\n",
      "Claim:  Alan has 180 bananas, 240 oranges, and 300 apples that he wants to distribute equally among a certain number of fruit baskets without any leftover fruits. What is the greatest number of fruit baskets that can be made evenly? Then, specify how many of each fruit will go into each basket.\n"
     ]
    },
    {
     "name": "stderr",
     "output_type": "stream",
     "text": [
      "\u001b[32m 2024-12-17 21:25:12,485 - INFO - HTTP Request: POST https://api.openai.com/v1/chat/completions \"HTTP/1.1 200 OK\"\u001b[0m\n"
     ]
    },
    {
     "name": "stdout",
     "output_type": "stream",
     "text": [
      "Entailment Result: 1\n",
      "Running NLI for GPT-4o...\n",
      "Passage:  The admission tickets to the Singapore Zoo are $50 for an adult, $36 for a child, and $20 for a senior citizen. On a particular Tuesday, there were 212 adults, 251 children, and 15 senior citizens who visited the Singapore Zoo and on a particular Wednesday, there were 231 adults, 266 children, and 12 senior citizens who visited the Singapore Zoo. The number of visitors on the particular Tuesday and Wednesday can be represented by the matrix V = \\begin{pmatrix} 212 & 251 & 15 \\\\ 231 & 266 & 12 \\end{pmatrix}. \\text{ (i) Write a } 3 \\times 1 \\text{ matrix, P, to represent the price of the admission tickets. (ii) Find the matrix } T = VP. \\text{ (iii) Explain what each of the elements represents. (iv) Find the total amount collected from the sales of the tickets for the 2 days.}\n",
      "Claim:  The admission tickets to the Ocean Aquarium are $45 for an adult, $30 for a child, and $25 for a senior citizen. On a particular Monday, there were 200 adults, 240 children, and 20 senior citizens who visited the Ocean Aquarium, and on a particular Tuesday, there were 220 adults, 260 children, and 15 senior citizens who visited the Ocean Aquarium.\n",
      "\n",
      "The number of visitors on Monday and Tuesday can be represented by the matrix \n",
      "\\[ V = \\begin{pmatrix} 200 & 240 & 20 \\\\ 220 & 260 & 15 \\end{pmatrix}. \\]\n",
      "\n",
      "(i) Write a $3 \\times 1$ matrix, $P$, to represent the price of the admission tickets.\n",
      "\n",
      "(ii) Find the matrix $T = VP$.\n",
      "\n",
      "(iii) Explain what each of the elements of matrix $T$ represents.\n",
      "\n",
      "(iv) Find the total revenue collected from the sales of the tickets for the 2 days.\n"
     ]
    },
    {
     "name": "stderr",
     "output_type": "stream",
     "text": [
      "\u001b[32m 2024-12-17 21:25:13,084 - INFO - HTTP Request: POST https://api.openai.com/v1/chat/completions \"HTTP/1.1 200 OK\"\u001b[0m\n"
     ]
    },
    {
     "name": "stdout",
     "output_type": "stream",
     "text": [
      "Entailment Result: 1\n",
      "Running NLI for GPT-4o...\n",
      "Passage:  The admission tickets to the Singapore Zoo are $50 for an adult, $36 for a child, and $20 for a senior citizen. On a particular Tuesday, there were 212 adults, 251 children, and 15 senior citizens who visited the Singapore Zoo and on a particular Wednesday, there were 231 adults, 266 children, and 12 senior citizens who visited the Singapore Zoo. The number of visitors on the particular Tuesday and Wednesday can be represented by the matrix V = \\begin{pmatrix} 212 & 251 & 15 \\\\ 231 & 266 & 12 \\end{pmatrix}. \\text{ (i) Write a } 3 \\times 1 \\text{ matrix, P, to represent the price of the admission tickets. (ii) Find the matrix } T = VP. \\text{ (iii) Explain what each of the elements represents. (iv) Find the total amount collected from the sales of the tickets for the 2 days.}\n",
      "Claim:  The prices for concert tickets are $60 for an adult, $40 for a child, and $25 for a senior. On a certain weekend, the attendance for Saturday and Sunday can be represented by the matrix:\n",
      "\\[ A = \\begin{pmatrix} 150 & 200 & 18 \\\\ 175 & 225 & 23 \\end{pmatrix} \\]\n",
      "where the columns respectively indicate the number of adults, children, and seniors attending.\n",
      "\n",
      "(i) Write a 3 x 1 matrix, \\( B \\), to represent the ticket prices.\n",
      "(ii) Calculate the matrix \\( C = AB \\).\n",
      "(iii) Interpret the elements of matrix \\( C \\).\n",
      "(iv) Determine the total revenue from ticket sales over the weekend.\n"
     ]
    },
    {
     "name": "stderr",
     "output_type": "stream",
     "text": [
      "\u001b[32m 2024-12-17 21:25:14,181 - INFO - HTTP Request: POST https://api.openai.com/v1/chat/completions \"HTTP/1.1 200 OK\"\u001b[0m\n"
     ]
    },
    {
     "name": "stdout",
     "output_type": "stream",
     "text": [
      "Entailment Result: 1\n",
      "Running NLI for GPT-4o...\n",
      "Passage:  The admission tickets to the Singapore Zoo are $50 for an adult, $36 for a child, and $20 for a senior citizen. On a particular Tuesday, there were 212 adults, 251 children, and 15 senior citizens who visited the Singapore Zoo and on a particular Wednesday, there were 231 adults, 266 children, and 12 senior citizens who visited the Singapore Zoo. The number of visitors on the particular Tuesday and Wednesday can be represented by the matrix V = \\begin{pmatrix} 212 & 251 & 15 \\\\ 231 & 266 & 12 \\end{pmatrix}. \\text{ (i) Write a } 3 \\times 1 \\text{ matrix, P, to represent the price of the admission tickets. (ii) Find the matrix } T = VP. \\text{ (iii) Explain what each of the elements represents. (iv) Find the total amount collected from the sales of the tickets for the 2 days.}\n",
      "Claim:  A wildlife park offers entrance tickets at $40 for adults, $25 for students, and $15 for seniors. On a specific Thursday, there were 180 adults, 300 students, and 20 seniors who visited the park. On Friday, 210 adults, 320 students, and 25 seniors visited the park. The visitor count on Thursday and Friday can be represented by the matrix \\( V = \\begin{pmatrix} 180 & 300 & 20 \\\\ 210 & 320 & 25 \\end{pmatrix} \\).\n",
      "\n",
      "(i) Construct a \\( 3 \\times 1 \\) matrix, \\( P \\), to represent the prices of the tickets.\n",
      "\n",
      "(ii) Calculate the matrix \\( T = VP \\).\n",
      "\n",
      "(iii) Explain what each element of \\( T \\) represents.\n",
      "\n",
      "(iv) Determine the total revenue from the ticket sales over these two days.\n"
     ]
    },
    {
     "name": "stderr",
     "output_type": "stream",
     "text": [
      "\u001b[32m 2024-12-17 21:25:14,898 - INFO - HTTP Request: POST https://api.openai.com/v1/chat/completions \"HTTP/1.1 200 OK\"\u001b[0m\n"
     ]
    },
    {
     "name": "stdout",
     "output_type": "stream",
     "text": [
      "Entailment Result: 1\n",
      "Running NLI for GPT-4o...\n",
      "Passage:  The admission tickets to the Singapore Zoo are $50 for an adult, $36 for a child, and $20 for a senior citizen. On a particular Tuesday, there were 212 adults, 251 children, and 15 senior citizens who visited the Singapore Zoo and on a particular Wednesday, there were 231 adults, 266 children, and 12 senior citizens who visited the Singapore Zoo. The number of visitors on the particular Tuesday and Wednesday can be represented by the matrix V = \\begin{pmatrix} 212 & 251 & 15 \\\\ 231 & 266 & 12 \\end{pmatrix}. \\text{ (i) Write a } 3 \\times 1 \\text{ matrix, P, to represent the price of the admission tickets. (ii) Find the matrix } T = VP. \\text{ (iii) Explain what each of the elements represents. (iv) Find the total amount collected from the sales of the tickets for the 2 days.}\n",
      "Claim:  A concert hall sells tickets for $45 for adults, $30 for students, and $25 for seniors. On a specific day, 150 adults, 200 students, and 30 seniors attended the concert. The following day, 180 adults, 220 students, and 40 seniors attended. The attendance can be represented by the matrix \\( A = \\begin{bmatrix} 150 & 200 & 30 \\\\ 180 & 220 & 40 \\end{bmatrix} \\).\n",
      "\n",
      "(i) Write a \\(3 \\times 1\\) matrix, \\( C \\), to represent the cost of the tickets.\n",
      "\n",
      "(ii) Calculate the matrix \\( B = AC \\).\n",
      "\n",
      "(iii) Explain what each element of matrix \\( B \\) represents.\n",
      "\n",
      "(iv) Determine the total revenue generated from ticket sales over the two days.\n"
     ]
    },
    {
     "name": "stderr",
     "output_type": "stream",
     "text": [
      "\u001b[32m 2024-12-17 21:25:15,612 - INFO - HTTP Request: POST https://api.openai.com/v1/chat/completions \"HTTP/1.1 200 OK\"\u001b[0m\n"
     ]
    },
    {
     "name": "stdout",
     "output_type": "stream",
     "text": [
      "Entailment Result: 1\n",
      "Running NLI for GPT-4o...\n",
      "Passage:  The admission tickets to the Singapore Zoo are $50 for an adult, $36 for a child, and $20 for a senior citizen. On a particular Tuesday, there were 212 adults, 251 children, and 15 senior citizens who visited the Singapore Zoo and on a particular Wednesday, there were 231 adults, 266 children, and 12 senior citizens who visited the Singapore Zoo. The number of visitors on the particular Tuesday and Wednesday can be represented by the matrix V = \\begin{pmatrix} 212 & 251 & 15 \\\\ 231 & 266 & 12 \\end{pmatrix}. \\text{ (i) Write a } 3 \\times 1 \\text{ matrix, P, to represent the price of the admission tickets. (ii) Find the matrix } T = VP. \\text{ (iii) Explain what each of the elements represents. (iv) Find the total amount collected from the sales of the tickets for the 2 days.}\n",
      "Claim:  The admission tickets to a museum are $45 for an adult, $32 for a child, and $18 for a senior citizen. On two different days, the number of visitors can be represented by the matrix \\( V = \\begin{pmatrix} 180 & 240 & 20 \\\\ 200 & 220 & 18 \\end{pmatrix} \\), where the first row corresponds to the numbers on the first day and the second row corresponds to the numbers on the second day.\n",
      "\n",
      "(i) Write a \\( 3 \\times 1 \\) matrix, \\( P \\), to represent the price of the admission tickets.\n",
      "(ii) Find the matrix \\( T = VP \\).\n",
      "(iii) Explain what each of the elements in \\( T \\) represents.\n",
      "(iv) Calculate the total revenue collected from ticket sales over the two days.\n"
     ]
    },
    {
     "name": "stderr",
     "output_type": "stream",
     "text": [
      "\u001b[32m 2024-12-17 21:25:16,237 - INFO - HTTP Request: POST https://api.openai.com/v1/chat/completions \"HTTP/1.1 200 OK\"\u001b[0m\n"
     ]
    },
    {
     "name": "stdout",
     "output_type": "stream",
     "text": [
      "Entailment Result: 1\n",
      "Running NLI for GPT-4o...\n",
      "Passage:  Ethan measures the amount of rain, in millimetres (mm), each day for 31 days. The bar chart shows his results. \n",
      "\n",
      "(a) Write down the median amount of rain.\n",
      "Claim:  Alice records the temperature in Celsius each day for an entire month of 30 days. The data is tabulated with frequency. Determine the mean, median, and mode of the temperature readings for the month.\n"
     ]
    },
    {
     "name": "stderr",
     "output_type": "stream",
     "text": [
      "\u001b[32m 2024-12-17 21:25:16,838 - INFO - HTTP Request: POST https://api.openai.com/v1/chat/completions \"HTTP/1.1 200 OK\"\u001b[0m\n"
     ]
    },
    {
     "name": "stdout",
     "output_type": "stream",
     "text": [
      "Entailment Result: 0\n",
      "Running NLI for GPT-4o...\n",
      "Passage:  Ethan measures the amount of rain, in millimetres (mm), each day for 31 days. The bar chart shows his results. \n",
      "\n",
      "(a) Write down the median amount of rain.\n",
      "Claim:  Olivia records the number of cars passing through a street each hour over a 24-hour period. She notes down her observations in a frequency table. Calculate the mean, median, and mode of the data.\n",
      "\n",
      "\\begin{center}\n",
      "\\begin{tabular}{|c|c|}\n",
      "\\hline\n",
      "\\textbf{Number of Cars} & \\textbf{Frequency} \\\\\n",
      "\\hline\n",
      "0-5 & 3 \\\\\n",
      "6-10 & 6 \\\\\n",
      "11-15 & 8 \\\\\n",
      "16-20 & 4 \\\\\n",
      "21-25 & 3 \\\\\n",
      "\\hline\n",
      "\\end{tabular}\n",
      "\\end{center}\n"
     ]
    },
    {
     "name": "stderr",
     "output_type": "stream",
     "text": [
      "\u001b[32m 2024-12-17 21:25:17,406 - INFO - HTTP Request: POST https://api.openai.com/v1/chat/completions \"HTTP/1.1 200 OK\"\u001b[0m\n"
     ]
    },
    {
     "name": "stdout",
     "output_type": "stream",
     "text": [
      "Entailment Result: 0\n",
      "Running NLI for GPT-4o...\n",
      "Passage:  Ethan measures the amount of rain, in millimetres (mm), each day for 31 days. The bar chart shows his results. \n",
      "\n",
      "(a) Write down the median amount of rain.\n",
      "Claim:  Olivia records the number of hours she studied each day for a month of 30 days. The dataset is as follows: 2, 3, 3, 6, 8, 8, 8, 8, 5, 4, 6, 6, 6, 7, 5, 5, 5, 2, 1, 4, 4, 4, 7, 7, 5, 3, 2, 6, 8, 7. Calculate the mean, median, and mode of the study hours.\n"
     ]
    },
    {
     "name": "stderr",
     "output_type": "stream",
     "text": [
      "\u001b[32m 2024-12-17 21:25:18,079 - INFO - HTTP Request: POST https://api.openai.com/v1/chat/completions \"HTTP/1.1 200 OK\"\u001b[0m\n"
     ]
    },
    {
     "name": "stdout",
     "output_type": "stream",
     "text": [
      "Entailment Result: 0\n",
      "Running NLI for GPT-4o...\n",
      "Passage:  Ethan measures the amount of rain, in millimetres (mm), each day for 31 days. The bar chart shows his results. \n",
      "\n",
      "(a) Write down the median amount of rain.\n",
      "Claim:  Liam records the number of hours he studies, each day, for a month with 30 days. The data is as follows: [2, 3, 4, 5, 5, 6, 7, 8, 9, 10, 3, 4, 5, 6, 7, 8, 9, 5, 6, 7, 8, 9, 10, 4, 3, 2, 7, 8, 9, 6]. Calculate the mean, median, and mode of his study hours.\n"
     ]
    },
    {
     "name": "stderr",
     "output_type": "stream",
     "text": [
      "\u001b[32m 2024-12-17 21:25:18,738 - INFO - HTTP Request: POST https://api.openai.com/v1/chat/completions \"HTTP/1.1 200 OK\"\u001b[0m\n"
     ]
    },
    {
     "name": "stdout",
     "output_type": "stream",
     "text": [
      "Entailment Result: 0\n",
      "Running NLI for GPT-4o...\n",
      "Passage:  Ethan measures the amount of rain, in millimetres (mm), each day for 31 days. The bar chart shows his results. \n",
      "\n",
      "(a) Write down the median amount of rain.\n",
      "Claim:  Liam records the number of customers visiting his bakery each day for one month (30 days). He notes the data in a bar chart. Based on this data, determine the mean, median, and mode of the daily customer visits.\n"
     ]
    },
    {
     "name": "stderr",
     "output_type": "stream",
     "text": [
      "\u001b[32m 2024-12-17 21:25:19,520 - INFO - HTTP Request: POST https://api.openai.com/v1/chat/completions \"HTTP/1.1 200 OK\"\u001b[0m\n"
     ]
    },
    {
     "name": "stdout",
     "output_type": "stream",
     "text": [
      "Entailment Result: 0\n",
      "Running NLI for GPT-4o...\n",
      "Passage:  A, D, B, and C lie on a circle, center O. AP is a tangent to the circle at A and BP is a tangent to the circle at B. \\angle AOB = 142^\\circ \\text{ and } \\angle DAP = 42^\\circ. \\text{ (a) Find the value of (i) } \\angle ACB, \\text{ (ii) } \\angle ADB. \\text{ (b) Is OB parallel to AD? Explain.}\n",
      "Claim:  In the circle with center \\( O \\), points \\( E, F, G, \\) and \\( H \\) lie on the circle. Line \\( EQ \\) is tangent to the circle at \\( E \\) and line \\( FH \\) is parallel to \\( EG \\). If angle \\( EOF = 130^\\circ \\) and angle \\( EHQ = 50^\\circ \\), find the following:\n",
      "\n",
      "(a) Find the value of:\n",
      "\n",
      "(i) angle \\( EGF \\)\n",
      "\n",
      "(ii) angle \\( FHG \\)\n",
      "\n",
      "(b) Is \\( OG \\) parallel to any tangent at \\( F \\)? Justify your answer.\n"
     ]
    },
    {
     "name": "stderr",
     "output_type": "stream",
     "text": [
      "\u001b[32m 2024-12-17 21:25:20,160 - INFO - HTTP Request: POST https://api.openai.com/v1/chat/completions \"HTTP/1.1 200 OK\"\u001b[0m\n"
     ]
    },
    {
     "name": "stdout",
     "output_type": "stream",
     "text": [
      "Entailment Result: 1\n",
      "Running NLI for GPT-4o...\n",
      "Passage:  A, D, B, and C lie on a circle, center O. AP is a tangent to the circle at A and BP is a tangent to the circle at B. \\angle AOB = 142^\\circ \\text{ and } \\angle DAP = 42^\\circ. \\text{ (a) Find the value of (i) } \\angle ACB, \\text{ (ii) } \\angle ADB. \\text{ (b) Is OB parallel to AD? Explain.}\n",
      "Claim:  In the circle with center \\(O\\), points \\(E, F, G,\\) and \\(H\\) lie on the circumference. Tangent \\(EQ\\) touches the circle at \\(E\\), and tangent \\(FR\\) touches the circle at \\(F\\). \\(\\angle EOF = 120^\\circ\\) and \\(\\angle GEF = 45^\\circ\\).\n",
      "\n",
      "(a) Find the value of \n",
      "\n",
      "(i) \\( \\angle EGF \\)\n",
      "\n",
      "(ii) \\( \\angle FGH \\)\n",
      "\n",
      "(b) Is \\( OH \\parallel EF \\)? Explain.\n"
     ]
    },
    {
     "name": "stderr",
     "output_type": "stream",
     "text": [
      "\u001b[32m 2024-12-17 21:25:20,799 - INFO - HTTP Request: POST https://api.openai.com/v1/chat/completions \"HTTP/1.1 200 OK\"\u001b[0m\n"
     ]
    },
    {
     "name": "stdout",
     "output_type": "stream",
     "text": [
      "Entailment Result: 1\n",
      "Running NLI for GPT-4o...\n",
      "Passage:  A, D, B, and C lie on a circle, center O. AP is a tangent to the circle at A and BP is a tangent to the circle at B. \\angle AOB = 142^\\circ \\text{ and } \\angle DAP = 42^\\circ. \\text{ (a) Find the value of (i) } \\angle ACB, \\text{ (ii) } \\angle ADB. \\text{ (b) Is OB parallel to AD? Explain.}\n",
      "Claim:  A, D, B and C lie on a circle with center O. CP is a tangent to the circle at C and DP is a tangent to the circle at D. Angle AOC = 130^\\circ and angle DAC = 50^\\circ.\\n\\n(a) Find the value of\\n\\n(i) angle ACB,\\n\\n(ii) angle ADC.\\n\\n(b) Is OC parallel to CD? Explain.\n"
     ]
    },
    {
     "name": "stderr",
     "output_type": "stream",
     "text": [
      "\u001b[32m 2024-12-17 21:25:21,452 - INFO - HTTP Request: POST https://api.openai.com/v1/chat/completions \"HTTP/1.1 200 OK\"\u001b[0m\n"
     ]
    },
    {
     "name": "stdout",
     "output_type": "stream",
     "text": [
      "Entailment Result: 1\n",
      "Running NLI for GPT-4o...\n",
      "Passage:  The diagram is the speed-time graph for the first k seconds of the motion of an object. (a) Find the acceleration when \\( t = 5 \\).\n",
      "Claim:  A car accelerates uniformly from rest to a speed of 30 m/s over a period of 10 seconds. It maintains this speed for the next 15 seconds before decelerating uniformly to rest in another 5 seconds. What is the total distance traveled by the car?\n"
     ]
    },
    {
     "name": "stderr",
     "output_type": "stream",
     "text": [
      "\u001b[32m 2024-12-17 21:25:22,359 - INFO - HTTP Request: POST https://api.openai.com/v1/chat/completions \"HTTP/1.1 200 OK\"\u001b[0m\n"
     ]
    },
    {
     "name": "stdout",
     "output_type": "stream",
     "text": [
      "Entailment Result: 0\n",
      "Running NLI for GPT-4o...\n",
      "Passage:  A, D, B, and C lie on a circle, center O. AP is a tangent to the circle at A and BP is a tangent to the circle at B. \\angle AOB = 142^\\circ \\text{ and } \\angle DAP = 42^\\circ. \\text{ (a) Find the value of (i) } \\angle ACB, \\text{ (ii) } \\angle ADB. \\text{ (b) Is OB parallel to AD? Explain.}\n",
      "Claim:  A, C, D, and E lie on a circle, center O. CE is a tangent to the circle at C and DE is a tangent to the circle at D. Angle AOD = 150° and angle EDC = 30°.\n",
      "\n",
      "(a) Find the value of\n",
      "\n",
      "(i) angle ACB,\n",
      "\n",
      "(ii) angle ADC.\n",
      "\n",
      "(b) Is line OC parallel to line DE? Explain.\n"
     ]
    },
    {
     "name": "stderr",
     "output_type": "stream",
     "text": [
      "\u001b[32m 2024-12-17 21:25:22,955 - INFO - HTTP Request: POST https://api.openai.com/v1/chat/completions \"HTTP/1.1 200 OK\"\u001b[0m\n"
     ]
    },
    {
     "name": "stdout",
     "output_type": "stream",
     "text": [
      "Entailment Result: 1\n",
      "Running NLI for GPT-4o...\n",
      "Passage:  The diagram is the speed-time graph for the first k seconds of the motion of an object. (a) Find the acceleration when \\( t = 5 \\).\n",
      "Claim:  A car accelerates uniformly from rest to a speed of \\( 30 \\, \\text{m/s} \\) in \\( 5 \\) seconds. It then maintains this speed for \\( 15 \\) seconds before decelerating uniformly to stop in \\( 10 \\) seconds. Calculate the total distance traveled by the car during this journey.\n"
     ]
    },
    {
     "name": "stderr",
     "output_type": "stream",
     "text": [
      "\u001b[32m 2024-12-17 21:25:23,781 - INFO - HTTP Request: POST https://api.openai.com/v1/chat/completions \"HTTP/1.1 200 OK\"\u001b[0m\n"
     ]
    },
    {
     "name": "stdout",
     "output_type": "stream",
     "text": [
      "Entailment Result: 0\n",
      "Running NLI for GPT-4o...\n",
      "Passage:  The diagram is the speed-time graph for the first k seconds of the motion of an object. (a) Find the acceleration when \\( t = 5 \\).\n",
      "Claim:  A car accelerates uniformly from rest to a speed of \\( 45 \\text{ m/s} \\) over a period of \\( 10 \\text{ seconds} \\), then moves at a constant speed for another \\( 5 \\text{ seconds} \\). Calculate the total distance covered by the car during this time.\n"
     ]
    },
    {
     "name": "stderr",
     "output_type": "stream",
     "text": [
      "\u001b[32m 2024-12-17 21:25:24,534 - INFO - HTTP Request: POST https://api.openai.com/v1/chat/completions \"HTTP/1.1 200 OK\"\u001b[0m\n"
     ]
    },
    {
     "name": "stdout",
     "output_type": "stream",
     "text": [
      "Entailment Result: 0\n",
      "Running NLI for GPT-4o...\n",
      "Passage:  A, D, B, and C lie on a circle, center O. AP is a tangent to the circle at A and BP is a tangent to the circle at B. \\angle AOB = 142^\\circ \\text{ and } \\angle DAP = 42^\\circ. \\text{ (a) Find the value of (i) } \\angle ACB, \\text{ (ii) } \\angle ADB. \\text{ (b) Is OB parallel to AD? Explain.}\n",
      "Claim:  In the circle with center $O$, let $A$, $B$, $C$, and $D$ be points on the circle. The line $AT$ is tangent to the circle at $A$, and $BT$ is tangent to the circle at $B$. Given that angle $AOB = 148^\\circ$ and angle $TAD = 36^\\circ$.\n",
      "\n",
      "(a) Find the value of\n",
      "\n",
      "(i) angle $ACB$, \n",
      "\n",
      "(ii) angle $ADB$.\n",
      "\n",
      "(b) Is $OB$ parallel to $DA$? Explain.\n"
     ]
    },
    {
     "name": "stderr",
     "output_type": "stream",
     "text": [
      "\u001b[32m 2024-12-17 21:25:25,280 - INFO - HTTP Request: POST https://api.openai.com/v1/chat/completions \"HTTP/1.1 200 OK\"\u001b[0m\n"
     ]
    },
    {
     "name": "stdout",
     "output_type": "stream",
     "text": [
      "Entailment Result: 1\n",
      "Running NLI for GPT-4o...\n",
      "Passage:  (c) Ethan picks one of these days at random. Find the probability that, on that day, the amount of rain was 3 mm or more.\n",
      "Claim:  Jessica rolls a fair six-sided die once. What is the probability that she rolls a number greater than 4?\n"
     ]
    },
    {
     "name": "stderr",
     "output_type": "stream",
     "text": [
      "\u001b[32m 2024-12-17 21:25:25,986 - INFO - HTTP Request: POST https://api.openai.com/v1/chat/completions \"HTTP/1.1 200 OK\"\u001b[0m\n"
     ]
    },
    {
     "name": "stdout",
     "output_type": "stream",
     "text": [
      "Entailment Result: 0\n",
      "Running NLI for GPT-4o...\n",
      "Passage:  The diagram is the speed-time graph for the first k seconds of the motion of an object. (a) Find the acceleration when \\( t = 5 \\).\n",
      "Claim:  A car accelerates uniformly from rest, reaching a speed of 60 km/h after 5 minutes. It maintains this speed for another 10 minutes before decelerating uniformly to rest over 5 minutes. Sketch the speed-time graph and calculate the total distance traveled by the car.\n"
     ]
    },
    {
     "name": "stderr",
     "output_type": "stream",
     "text": [
      "\u001b[32m 2024-12-17 21:25:26,648 - INFO - HTTP Request: POST https://api.openai.com/v1/chat/completions \"HTTP/1.1 200 OK\"\u001b[0m\n"
     ]
    },
    {
     "name": "stdout",
     "output_type": "stream",
     "text": [
      "Entailment Result: 1\n",
      "Running NLI for GPT-4o...\n",
      "Passage:  (c) Ethan picks one of these days at random. Find the probability that, on that day, the amount of rain was 3 mm or more.\n",
      "Claim:  A jar contains a total of 30 marbles, of which 12 are blue and the rest are not blue. If one marble is selected at random, find the probability that it is blue.\n"
     ]
    },
    {
     "name": "stderr",
     "output_type": "stream",
     "text": [
      "\u001b[32m 2024-12-17 21:25:27,339 - INFO - HTTP Request: POST https://api.openai.com/v1/chat/completions \"HTTP/1.1 200 OK\"\u001b[0m\n"
     ]
    },
    {
     "name": "stdout",
     "output_type": "stream",
     "text": [
      "Entailment Result: 0\n",
      "Running NLI for GPT-4o...\n",
      "Passage:  The diagram is the speed-time graph for the first k seconds of the motion of an object. (a) Find the acceleration when \\( t = 5 \\).\n",
      "Claim:  A car travels along a straight road, and its speed in meters per second over time is represented by the following speed-time graph piece: \\[ \\begin{array}{|c|c|} \\hline \\text{Time (s)} & \\text{Speed (m/s)} \\\\ \\hline 0 & 0 \\\\ 10 & 20 \\\\ 30 & 20 \\\\ 50 & 0 \\\\ \\hline \\end{array} \\] Determine the total distance traveled by the car during these 50 seconds.\n"
     ]
    },
    {
     "ename": "KeyboardInterrupt",
     "evalue": "",
     "output_type": "error",
     "traceback": [
      "\u001b[0;31m---------------------------------------------------------------------------\u001b[0m",
      "\u001b[0;31mKeyboardInterrupt\u001b[0m                         Traceback (most recent call last)",
      "Cell \u001b[0;32mIn[13], line 5\u001b[0m\n\u001b[1;32m      2\u001b[0m \u001b[38;5;28;01mwith\u001b[39;00m \u001b[38;5;28mopen\u001b[39m(\u001b[38;5;124m\"\u001b[39m\u001b[38;5;124mentailment_eval.json\u001b[39m\u001b[38;5;124m\"\u001b[39m, \u001b[38;5;124m\"\u001b[39m\u001b[38;5;124mr\u001b[39m\u001b[38;5;124m\"\u001b[39m) \u001b[38;5;28;01mas\u001b[39;00m f:\n\u001b[1;32m      3\u001b[0m     json_data \u001b[38;5;241m=\u001b[39m json\u001b[38;5;241m.\u001b[39mload(f)\n\u001b[0;32m----> 5\u001b[0m accuracy \u001b[38;5;241m=\u001b[39m \u001b[43meval_gpt4o_scores\u001b[49m\u001b[43m(\u001b[49m\u001b[43mjson_data\u001b[49m\u001b[43m)\u001b[49m\n",
      "Cell \u001b[0;32mIn[12], line 10\u001b[0m, in \u001b[0;36meval_gpt4o_scores\u001b[0;34m(json_data)\u001b[0m\n\u001b[1;32m      8\u001b[0m total_count \u001b[38;5;241m+\u001b[39m\u001b[38;5;241m=\u001b[39m \u001b[38;5;241m1\u001b[39m\n\u001b[1;32m      9\u001b[0m passage \u001b[38;5;241m=\u001b[39m citation[\u001b[38;5;124m\"\u001b[39m\u001b[38;5;124mcited_text\u001b[39m\u001b[38;5;124m\"\u001b[39m]\n\u001b[0;32m---> 10\u001b[0m gpt4o_score \u001b[38;5;241m=\u001b[39m \u001b[43m_run_nli_gpt4\u001b[49m\u001b[43m(\u001b[49m\u001b[43mpassage\u001b[49m\u001b[43m,\u001b[49m\u001b[43m \u001b[49m\u001b[43mclaim\u001b[49m\u001b[43m)\u001b[49m\n\u001b[1;32m     11\u001b[0m citation[\u001b[38;5;124m\"\u001b[39m\u001b[38;5;124mgpt4o_score\u001b[39m\u001b[38;5;124m\"\u001b[39m] \u001b[38;5;241m=\u001b[39m \u001b[38;5;28mint\u001b[39m(gpt4o_score)\n\u001b[1;32m     13\u001b[0m \u001b[38;5;28;01mif\u001b[39;00m \u001b[38;5;28mint\u001b[39m(gpt4o_score) \u001b[38;5;241m==\u001b[39m citation[\u001b[38;5;124m'\u001b[39m\u001b[38;5;124mscore\u001b[39m\u001b[38;5;124m'\u001b[39m]:\n",
      "File \u001b[0;32m~/trust-align/trust_eval.py:176\u001b[0m, in \u001b[0;36m_run_nli_gpt4\u001b[0;34m(passage, claim)\u001b[0m\n\u001b[1;32m    155\u001b[0m prompt \u001b[38;5;241m=\u001b[39m \u001b[38;5;124mf\u001b[39m\u001b[38;5;124m\"\"\"\u001b[39m\n\u001b[1;32m    156\u001b[0m \u001b[38;5;124m            You are a helpful assistant that determines if a newly generated math question (the hypothesis)\u001b[39m\n\u001b[1;32m    157\u001b[0m \u001b[38;5;124m            is grounded in the provided set of existing math questions (the premise).\u001b[39m\n\u001b[0;32m   (...)\u001b[0m\n\u001b[1;32m    167\u001b[0m \u001b[38;5;124m            \u001b[39m\u001b[38;5;132;01m{\u001b[39;00mclaim\u001b[38;5;132;01m}\u001b[39;00m\n\u001b[1;32m    168\u001b[0m \u001b[38;5;124m            \u001b[39m\u001b[38;5;124m\"\"\"\u001b[39m\u001b[38;5;241m.\u001b[39mstrip()\n\u001b[1;32m    170\u001b[0m \u001b[38;5;66;03m# Sleep for 5 seconds to avoid rate limit\u001b[39;00m\n\u001b[1;32m    171\u001b[0m \u001b[38;5;66;03m# time.sleep(5)\u001b[39;00m\n\u001b[1;32m    172\u001b[0m \n\u001b[1;32m    173\u001b[0m \u001b[38;5;66;03m# print(\"OpenAI Key: \", openai.api_key)\u001b[39;00m\n\u001b[1;32m    174\u001b[0m \u001b[38;5;66;03m# print(\"OpenRouter Key: \", OPENROUTER_API_KEY)\u001b[39;00m\n\u001b[0;32m--> 176\u001b[0m entail_completion \u001b[38;5;241m=\u001b[39m \u001b[43mclient\u001b[49m\u001b[38;5;241;43m.\u001b[39;49m\u001b[43mbeta\u001b[49m\u001b[38;5;241;43m.\u001b[39;49m\u001b[43mchat\u001b[49m\u001b[38;5;241;43m.\u001b[39;49m\u001b[43mcompletions\u001b[49m\u001b[38;5;241;43m.\u001b[39;49m\u001b[43mparse\u001b[49m\u001b[43m(\u001b[49m\n\u001b[1;32m    177\u001b[0m \u001b[43m        \u001b[49m\u001b[43mmodel\u001b[49m\u001b[38;5;241;43m=\u001b[39;49m\u001b[38;5;124;43m\"\u001b[39;49m\u001b[38;5;124;43mgpt-4o\u001b[39;49m\u001b[38;5;124;43m\"\u001b[39;49m\u001b[43m,\u001b[49m\n\u001b[1;32m    178\u001b[0m \u001b[43m        \u001b[49m\u001b[43mmessages\u001b[49m\u001b[38;5;241;43m=\u001b[39;49m\u001b[43m[\u001b[49m\n\u001b[1;32m    179\u001b[0m \u001b[43m        \u001b[49m\u001b[43m{\u001b[49m\u001b[38;5;124;43m\"\u001b[39;49m\u001b[38;5;124;43mrole\u001b[39;49m\u001b[38;5;124;43m\"\u001b[39;49m\u001b[43m:\u001b[49m\u001b[43m \u001b[49m\u001b[38;5;124;43m\"\u001b[39;49m\u001b[38;5;124;43msystem\u001b[39;49m\u001b[38;5;124;43m\"\u001b[39;49m\u001b[43m,\u001b[49m\u001b[43m \u001b[49m\u001b[38;5;124;43m\"\u001b[39;49m\u001b[38;5;124;43mcontent\u001b[39;49m\u001b[38;5;124;43m\"\u001b[39;49m\u001b[43m:\u001b[49m\u001b[43m \u001b[49m\u001b[38;5;124;43m\"\u001b[39;49m\u001b[38;5;124;43mYou are a helpful assistant that only returns \u001b[39;49m\u001b[38;5;124;43m'\u001b[39;49m\u001b[38;5;124;43m1\u001b[39;49m\u001b[38;5;124;43m'\u001b[39;49m\u001b[38;5;124;43m or \u001b[39;49m\u001b[38;5;124;43m'\u001b[39;49m\u001b[38;5;124;43m0\u001b[39;49m\u001b[38;5;124;43m'\u001b[39;49m\u001b[38;5;124;43m.\u001b[39;49m\u001b[38;5;124;43m\"\u001b[39;49m\u001b[43m}\u001b[49m\u001b[43m,\u001b[49m\n\u001b[1;32m    180\u001b[0m \u001b[43m        \u001b[49m\u001b[43m{\u001b[49m\u001b[38;5;124;43m\"\u001b[39;49m\u001b[38;5;124;43mrole\u001b[39;49m\u001b[38;5;124;43m\"\u001b[39;49m\u001b[43m:\u001b[49m\u001b[43m \u001b[49m\u001b[38;5;124;43m\"\u001b[39;49m\u001b[38;5;124;43muser\u001b[39;49m\u001b[38;5;124;43m\"\u001b[39;49m\u001b[43m,\u001b[49m\u001b[43m \u001b[49m\u001b[38;5;124;43m\"\u001b[39;49m\u001b[38;5;124;43mcontent\u001b[39;49m\u001b[38;5;124;43m\"\u001b[39;49m\u001b[43m:\u001b[49m\u001b[43m \u001b[49m\u001b[43mprompt\u001b[49m\u001b[43m}\u001b[49m\n\u001b[1;32m    181\u001b[0m \u001b[43m        \u001b[49m\u001b[43m]\u001b[49m\u001b[43m,\u001b[49m\n\u001b[1;32m    182\u001b[0m \u001b[43m        \u001b[49m\u001b[43mresponse_format\u001b[49m\u001b[38;5;241;43m=\u001b[39;49m\u001b[43mEntails\u001b[49m\u001b[43m,\u001b[49m\n\u001b[1;32m    183\u001b[0m \u001b[43m    \u001b[49m\u001b[43m)\u001b[49m\n\u001b[1;32m    185\u001b[0m entails \u001b[38;5;241m=\u001b[39m entail_completion\u001b[38;5;241m.\u001b[39mchoices[\u001b[38;5;241m0\u001b[39m]\u001b[38;5;241m.\u001b[39mmessage\u001b[38;5;241m.\u001b[39mparsed\u001b[38;5;241m.\u001b[39mmodel_dump()[\u001b[38;5;124m\"\u001b[39m\u001b[38;5;124mentails\u001b[39m\u001b[38;5;124m\"\u001b[39m]\u001b[38;5;241m.\u001b[39mvalue\n\u001b[1;32m    187\u001b[0m \u001b[38;5;66;03m# Convert the model's response to 1 or 0\u001b[39;00m\n",
      "File \u001b[0;32m/opt/miniconda3/envs/cite/lib/python3.12/site-packages/openai/resources/beta/chat/completions.py:156\u001b[0m, in \u001b[0;36mCompletions.parse\u001b[0;34m(self, messages, model, audio, response_format, frequency_penalty, function_call, functions, logit_bias, logprobs, max_completion_tokens, max_tokens, metadata, modalities, n, parallel_tool_calls, prediction, presence_penalty, seed, service_tier, stop, store, stream_options, temperature, tool_choice, tools, top_logprobs, top_p, user, extra_headers, extra_query, extra_body, timeout)\u001b[0m\n\u001b[1;32m    149\u001b[0m \u001b[38;5;28;01mdef\u001b[39;00m \u001b[38;5;21mparser\u001b[39m(raw_completion: ChatCompletion) \u001b[38;5;241m-\u001b[39m\u001b[38;5;241m>\u001b[39m ParsedChatCompletion[ResponseFormatT]:\n\u001b[1;32m    150\u001b[0m     \u001b[38;5;28;01mreturn\u001b[39;00m _parse_chat_completion(\n\u001b[1;32m    151\u001b[0m         response_format\u001b[38;5;241m=\u001b[39mresponse_format,\n\u001b[1;32m    152\u001b[0m         chat_completion\u001b[38;5;241m=\u001b[39mraw_completion,\n\u001b[1;32m    153\u001b[0m         input_tools\u001b[38;5;241m=\u001b[39mtools,\n\u001b[1;32m    154\u001b[0m     )\n\u001b[0;32m--> 156\u001b[0m \u001b[38;5;28;01mreturn\u001b[39;00m \u001b[38;5;28;43mself\u001b[39;49m\u001b[38;5;241;43m.\u001b[39;49m\u001b[43m_post\u001b[49m\u001b[43m(\u001b[49m\n\u001b[1;32m    157\u001b[0m \u001b[43m    \u001b[49m\u001b[38;5;124;43m\"\u001b[39;49m\u001b[38;5;124;43m/chat/completions\u001b[39;49m\u001b[38;5;124;43m\"\u001b[39;49m\u001b[43m,\u001b[49m\n\u001b[1;32m    158\u001b[0m \u001b[43m    \u001b[49m\u001b[43mbody\u001b[49m\u001b[38;5;241;43m=\u001b[39;49m\u001b[43mmaybe_transform\u001b[49m\u001b[43m(\u001b[49m\n\u001b[1;32m    159\u001b[0m \u001b[43m        \u001b[49m\u001b[43m{\u001b[49m\n\u001b[1;32m    160\u001b[0m \u001b[43m            \u001b[49m\u001b[38;5;124;43m\"\u001b[39;49m\u001b[38;5;124;43mmessages\u001b[39;49m\u001b[38;5;124;43m\"\u001b[39;49m\u001b[43m:\u001b[49m\u001b[43m \u001b[49m\u001b[43mmessages\u001b[49m\u001b[43m,\u001b[49m\n\u001b[1;32m    161\u001b[0m \u001b[43m            \u001b[49m\u001b[38;5;124;43m\"\u001b[39;49m\u001b[38;5;124;43mmodel\u001b[39;49m\u001b[38;5;124;43m\"\u001b[39;49m\u001b[43m:\u001b[49m\u001b[43m \u001b[49m\u001b[43mmodel\u001b[49m\u001b[43m,\u001b[49m\n\u001b[1;32m    162\u001b[0m \u001b[43m            \u001b[49m\u001b[38;5;124;43m\"\u001b[39;49m\u001b[38;5;124;43maudio\u001b[39;49m\u001b[38;5;124;43m\"\u001b[39;49m\u001b[43m:\u001b[49m\u001b[43m \u001b[49m\u001b[43maudio\u001b[49m\u001b[43m,\u001b[49m\n\u001b[1;32m    163\u001b[0m \u001b[43m            \u001b[49m\u001b[38;5;124;43m\"\u001b[39;49m\u001b[38;5;124;43mfrequency_penalty\u001b[39;49m\u001b[38;5;124;43m\"\u001b[39;49m\u001b[43m:\u001b[49m\u001b[43m \u001b[49m\u001b[43mfrequency_penalty\u001b[49m\u001b[43m,\u001b[49m\n\u001b[1;32m    164\u001b[0m \u001b[43m            \u001b[49m\u001b[38;5;124;43m\"\u001b[39;49m\u001b[38;5;124;43mfunction_call\u001b[39;49m\u001b[38;5;124;43m\"\u001b[39;49m\u001b[43m:\u001b[49m\u001b[43m \u001b[49m\u001b[43mfunction_call\u001b[49m\u001b[43m,\u001b[49m\n\u001b[1;32m    165\u001b[0m \u001b[43m            \u001b[49m\u001b[38;5;124;43m\"\u001b[39;49m\u001b[38;5;124;43mfunctions\u001b[39;49m\u001b[38;5;124;43m\"\u001b[39;49m\u001b[43m:\u001b[49m\u001b[43m \u001b[49m\u001b[43mfunctions\u001b[49m\u001b[43m,\u001b[49m\n\u001b[1;32m    166\u001b[0m \u001b[43m            \u001b[49m\u001b[38;5;124;43m\"\u001b[39;49m\u001b[38;5;124;43mlogit_bias\u001b[39;49m\u001b[38;5;124;43m\"\u001b[39;49m\u001b[43m:\u001b[49m\u001b[43m \u001b[49m\u001b[43mlogit_bias\u001b[49m\u001b[43m,\u001b[49m\n\u001b[1;32m    167\u001b[0m \u001b[43m            \u001b[49m\u001b[38;5;124;43m\"\u001b[39;49m\u001b[38;5;124;43mlogprobs\u001b[39;49m\u001b[38;5;124;43m\"\u001b[39;49m\u001b[43m:\u001b[49m\u001b[43m \u001b[49m\u001b[43mlogprobs\u001b[49m\u001b[43m,\u001b[49m\n\u001b[1;32m    168\u001b[0m \u001b[43m            \u001b[49m\u001b[38;5;124;43m\"\u001b[39;49m\u001b[38;5;124;43mmax_completion_tokens\u001b[39;49m\u001b[38;5;124;43m\"\u001b[39;49m\u001b[43m:\u001b[49m\u001b[43m \u001b[49m\u001b[43mmax_completion_tokens\u001b[49m\u001b[43m,\u001b[49m\n\u001b[1;32m    169\u001b[0m \u001b[43m            \u001b[49m\u001b[38;5;124;43m\"\u001b[39;49m\u001b[38;5;124;43mmax_tokens\u001b[39;49m\u001b[38;5;124;43m\"\u001b[39;49m\u001b[43m:\u001b[49m\u001b[43m \u001b[49m\u001b[43mmax_tokens\u001b[49m\u001b[43m,\u001b[49m\n\u001b[1;32m    170\u001b[0m \u001b[43m            \u001b[49m\u001b[38;5;124;43m\"\u001b[39;49m\u001b[38;5;124;43mmetadata\u001b[39;49m\u001b[38;5;124;43m\"\u001b[39;49m\u001b[43m:\u001b[49m\u001b[43m \u001b[49m\u001b[43mmetadata\u001b[49m\u001b[43m,\u001b[49m\n\u001b[1;32m    171\u001b[0m \u001b[43m            \u001b[49m\u001b[38;5;124;43m\"\u001b[39;49m\u001b[38;5;124;43mmodalities\u001b[39;49m\u001b[38;5;124;43m\"\u001b[39;49m\u001b[43m:\u001b[49m\u001b[43m \u001b[49m\u001b[43mmodalities\u001b[49m\u001b[43m,\u001b[49m\n\u001b[1;32m    172\u001b[0m \u001b[43m            \u001b[49m\u001b[38;5;124;43m\"\u001b[39;49m\u001b[38;5;124;43mn\u001b[39;49m\u001b[38;5;124;43m\"\u001b[39;49m\u001b[43m:\u001b[49m\u001b[43m \u001b[49m\u001b[43mn\u001b[49m\u001b[43m,\u001b[49m\n\u001b[1;32m    173\u001b[0m \u001b[43m            \u001b[49m\u001b[38;5;124;43m\"\u001b[39;49m\u001b[38;5;124;43mparallel_tool_calls\u001b[39;49m\u001b[38;5;124;43m\"\u001b[39;49m\u001b[43m:\u001b[49m\u001b[43m \u001b[49m\u001b[43mparallel_tool_calls\u001b[49m\u001b[43m,\u001b[49m\n\u001b[1;32m    174\u001b[0m \u001b[43m            \u001b[49m\u001b[38;5;124;43m\"\u001b[39;49m\u001b[38;5;124;43mprediction\u001b[39;49m\u001b[38;5;124;43m\"\u001b[39;49m\u001b[43m:\u001b[49m\u001b[43m \u001b[49m\u001b[43mprediction\u001b[49m\u001b[43m,\u001b[49m\n\u001b[1;32m    175\u001b[0m \u001b[43m            \u001b[49m\u001b[38;5;124;43m\"\u001b[39;49m\u001b[38;5;124;43mpresence_penalty\u001b[39;49m\u001b[38;5;124;43m\"\u001b[39;49m\u001b[43m:\u001b[49m\u001b[43m \u001b[49m\u001b[43mpresence_penalty\u001b[49m\u001b[43m,\u001b[49m\n\u001b[1;32m    176\u001b[0m \u001b[43m            \u001b[49m\u001b[38;5;124;43m\"\u001b[39;49m\u001b[38;5;124;43mresponse_format\u001b[39;49m\u001b[38;5;124;43m\"\u001b[39;49m\u001b[43m:\u001b[49m\u001b[43m \u001b[49m\u001b[43m_type_to_response_format\u001b[49m\u001b[43m(\u001b[49m\u001b[43mresponse_format\u001b[49m\u001b[43m)\u001b[49m\u001b[43m,\u001b[49m\n\u001b[1;32m    177\u001b[0m \u001b[43m            \u001b[49m\u001b[38;5;124;43m\"\u001b[39;49m\u001b[38;5;124;43mseed\u001b[39;49m\u001b[38;5;124;43m\"\u001b[39;49m\u001b[43m:\u001b[49m\u001b[43m \u001b[49m\u001b[43mseed\u001b[49m\u001b[43m,\u001b[49m\n\u001b[1;32m    178\u001b[0m \u001b[43m            \u001b[49m\u001b[38;5;124;43m\"\u001b[39;49m\u001b[38;5;124;43mservice_tier\u001b[39;49m\u001b[38;5;124;43m\"\u001b[39;49m\u001b[43m:\u001b[49m\u001b[43m \u001b[49m\u001b[43mservice_tier\u001b[49m\u001b[43m,\u001b[49m\n\u001b[1;32m    179\u001b[0m \u001b[43m            \u001b[49m\u001b[38;5;124;43m\"\u001b[39;49m\u001b[38;5;124;43mstop\u001b[39;49m\u001b[38;5;124;43m\"\u001b[39;49m\u001b[43m:\u001b[49m\u001b[43m \u001b[49m\u001b[43mstop\u001b[49m\u001b[43m,\u001b[49m\n\u001b[1;32m    180\u001b[0m \u001b[43m            \u001b[49m\u001b[38;5;124;43m\"\u001b[39;49m\u001b[38;5;124;43mstore\u001b[39;49m\u001b[38;5;124;43m\"\u001b[39;49m\u001b[43m:\u001b[49m\u001b[43m \u001b[49m\u001b[43mstore\u001b[49m\u001b[43m,\u001b[49m\n\u001b[1;32m    181\u001b[0m \u001b[43m            \u001b[49m\u001b[38;5;124;43m\"\u001b[39;49m\u001b[38;5;124;43mstream\u001b[39;49m\u001b[38;5;124;43m\"\u001b[39;49m\u001b[43m:\u001b[49m\u001b[43m \u001b[49m\u001b[38;5;28;43;01mFalse\u001b[39;49;00m\u001b[43m,\u001b[49m\n\u001b[1;32m    182\u001b[0m \u001b[43m            \u001b[49m\u001b[38;5;124;43m\"\u001b[39;49m\u001b[38;5;124;43mstream_options\u001b[39;49m\u001b[38;5;124;43m\"\u001b[39;49m\u001b[43m:\u001b[49m\u001b[43m \u001b[49m\u001b[43mstream_options\u001b[49m\u001b[43m,\u001b[49m\n\u001b[1;32m    183\u001b[0m \u001b[43m            \u001b[49m\u001b[38;5;124;43m\"\u001b[39;49m\u001b[38;5;124;43mtemperature\u001b[39;49m\u001b[38;5;124;43m\"\u001b[39;49m\u001b[43m:\u001b[49m\u001b[43m \u001b[49m\u001b[43mtemperature\u001b[49m\u001b[43m,\u001b[49m\n\u001b[1;32m    184\u001b[0m \u001b[43m            \u001b[49m\u001b[38;5;124;43m\"\u001b[39;49m\u001b[38;5;124;43mtool_choice\u001b[39;49m\u001b[38;5;124;43m\"\u001b[39;49m\u001b[43m:\u001b[49m\u001b[43m \u001b[49m\u001b[43mtool_choice\u001b[49m\u001b[43m,\u001b[49m\n\u001b[1;32m    185\u001b[0m \u001b[43m            \u001b[49m\u001b[38;5;124;43m\"\u001b[39;49m\u001b[38;5;124;43mtools\u001b[39;49m\u001b[38;5;124;43m\"\u001b[39;49m\u001b[43m:\u001b[49m\u001b[43m \u001b[49m\u001b[43mtools\u001b[49m\u001b[43m,\u001b[49m\n\u001b[1;32m    186\u001b[0m \u001b[43m            \u001b[49m\u001b[38;5;124;43m\"\u001b[39;49m\u001b[38;5;124;43mtop_logprobs\u001b[39;49m\u001b[38;5;124;43m\"\u001b[39;49m\u001b[43m:\u001b[49m\u001b[43m \u001b[49m\u001b[43mtop_logprobs\u001b[49m\u001b[43m,\u001b[49m\n\u001b[1;32m    187\u001b[0m \u001b[43m            \u001b[49m\u001b[38;5;124;43m\"\u001b[39;49m\u001b[38;5;124;43mtop_p\u001b[39;49m\u001b[38;5;124;43m\"\u001b[39;49m\u001b[43m:\u001b[49m\u001b[43m \u001b[49m\u001b[43mtop_p\u001b[49m\u001b[43m,\u001b[49m\n\u001b[1;32m    188\u001b[0m \u001b[43m            \u001b[49m\u001b[38;5;124;43m\"\u001b[39;49m\u001b[38;5;124;43muser\u001b[39;49m\u001b[38;5;124;43m\"\u001b[39;49m\u001b[43m:\u001b[49m\u001b[43m \u001b[49m\u001b[43muser\u001b[49m\u001b[43m,\u001b[49m\n\u001b[1;32m    189\u001b[0m \u001b[43m        \u001b[49m\u001b[43m}\u001b[49m\u001b[43m,\u001b[49m\n\u001b[1;32m    190\u001b[0m \u001b[43m        \u001b[49m\u001b[43mcompletion_create_params\u001b[49m\u001b[38;5;241;43m.\u001b[39;49m\u001b[43mCompletionCreateParams\u001b[49m\u001b[43m,\u001b[49m\n\u001b[1;32m    191\u001b[0m \u001b[43m    \u001b[49m\u001b[43m)\u001b[49m\u001b[43m,\u001b[49m\n\u001b[1;32m    192\u001b[0m \u001b[43m    \u001b[49m\u001b[43moptions\u001b[49m\u001b[38;5;241;43m=\u001b[39;49m\u001b[43mmake_request_options\u001b[49m\u001b[43m(\u001b[49m\n\u001b[1;32m    193\u001b[0m \u001b[43m        \u001b[49m\u001b[43mextra_headers\u001b[49m\u001b[38;5;241;43m=\u001b[39;49m\u001b[43mextra_headers\u001b[49m\u001b[43m,\u001b[49m\n\u001b[1;32m    194\u001b[0m \u001b[43m        \u001b[49m\u001b[43mextra_query\u001b[49m\u001b[38;5;241;43m=\u001b[39;49m\u001b[43mextra_query\u001b[49m\u001b[43m,\u001b[49m\n\u001b[1;32m    195\u001b[0m \u001b[43m        \u001b[49m\u001b[43mextra_body\u001b[49m\u001b[38;5;241;43m=\u001b[39;49m\u001b[43mextra_body\u001b[49m\u001b[43m,\u001b[49m\n\u001b[1;32m    196\u001b[0m \u001b[43m        \u001b[49m\u001b[43mtimeout\u001b[49m\u001b[38;5;241;43m=\u001b[39;49m\u001b[43mtimeout\u001b[49m\u001b[43m,\u001b[49m\n\u001b[1;32m    197\u001b[0m \u001b[43m        \u001b[49m\u001b[43mpost_parser\u001b[49m\u001b[38;5;241;43m=\u001b[39;49m\u001b[43mparser\u001b[49m\u001b[43m,\u001b[49m\n\u001b[1;32m    198\u001b[0m \u001b[43m    \u001b[49m\u001b[43m)\u001b[49m\u001b[43m,\u001b[49m\n\u001b[1;32m    199\u001b[0m \u001b[43m    \u001b[49m\u001b[38;5;66;43;03m# we turn the `ChatCompletion` instance into a `ParsedChatCompletion`\u001b[39;49;00m\n\u001b[1;32m    200\u001b[0m \u001b[43m    \u001b[49m\u001b[38;5;66;43;03m# in the `parser` function above\u001b[39;49;00m\n\u001b[1;32m    201\u001b[0m \u001b[43m    \u001b[49m\u001b[43mcast_to\u001b[49m\u001b[38;5;241;43m=\u001b[39;49m\u001b[43mcast\u001b[49m\u001b[43m(\u001b[49m\u001b[43mType\u001b[49m\u001b[43m[\u001b[49m\u001b[43mParsedChatCompletion\u001b[49m\u001b[43m[\u001b[49m\u001b[43mResponseFormatT\u001b[49m\u001b[43m]\u001b[49m\u001b[43m]\u001b[49m\u001b[43m,\u001b[49m\u001b[43m \u001b[49m\u001b[43mChatCompletion\u001b[49m\u001b[43m)\u001b[49m\u001b[43m,\u001b[49m\n\u001b[1;32m    202\u001b[0m \u001b[43m    \u001b[49m\u001b[43mstream\u001b[49m\u001b[38;5;241;43m=\u001b[39;49m\u001b[38;5;28;43;01mFalse\u001b[39;49;00m\u001b[43m,\u001b[49m\n\u001b[1;32m    203\u001b[0m \u001b[43m\u001b[49m\u001b[43m)\u001b[49m\n",
      "File \u001b[0;32m/opt/miniconda3/envs/cite/lib/python3.12/site-packages/openai/_base_client.py:1280\u001b[0m, in \u001b[0;36mSyncAPIClient.post\u001b[0;34m(self, path, cast_to, body, options, files, stream, stream_cls)\u001b[0m\n\u001b[1;32m   1266\u001b[0m \u001b[38;5;28;01mdef\u001b[39;00m \u001b[38;5;21mpost\u001b[39m(\n\u001b[1;32m   1267\u001b[0m     \u001b[38;5;28mself\u001b[39m,\n\u001b[1;32m   1268\u001b[0m     path: \u001b[38;5;28mstr\u001b[39m,\n\u001b[0;32m   (...)\u001b[0m\n\u001b[1;32m   1275\u001b[0m     stream_cls: \u001b[38;5;28mtype\u001b[39m[_StreamT] \u001b[38;5;241m|\u001b[39m \u001b[38;5;28;01mNone\u001b[39;00m \u001b[38;5;241m=\u001b[39m \u001b[38;5;28;01mNone\u001b[39;00m,\n\u001b[1;32m   1276\u001b[0m ) \u001b[38;5;241m-\u001b[39m\u001b[38;5;241m>\u001b[39m ResponseT \u001b[38;5;241m|\u001b[39m _StreamT:\n\u001b[1;32m   1277\u001b[0m     opts \u001b[38;5;241m=\u001b[39m FinalRequestOptions\u001b[38;5;241m.\u001b[39mconstruct(\n\u001b[1;32m   1278\u001b[0m         method\u001b[38;5;241m=\u001b[39m\u001b[38;5;124m\"\u001b[39m\u001b[38;5;124mpost\u001b[39m\u001b[38;5;124m\"\u001b[39m, url\u001b[38;5;241m=\u001b[39mpath, json_data\u001b[38;5;241m=\u001b[39mbody, files\u001b[38;5;241m=\u001b[39mto_httpx_files(files), \u001b[38;5;241m*\u001b[39m\u001b[38;5;241m*\u001b[39moptions\n\u001b[1;32m   1279\u001b[0m     )\n\u001b[0;32m-> 1280\u001b[0m     \u001b[38;5;28;01mreturn\u001b[39;00m cast(ResponseT, \u001b[38;5;28;43mself\u001b[39;49m\u001b[38;5;241;43m.\u001b[39;49m\u001b[43mrequest\u001b[49m\u001b[43m(\u001b[49m\u001b[43mcast_to\u001b[49m\u001b[43m,\u001b[49m\u001b[43m \u001b[49m\u001b[43mopts\u001b[49m\u001b[43m,\u001b[49m\u001b[43m \u001b[49m\u001b[43mstream\u001b[49m\u001b[38;5;241;43m=\u001b[39;49m\u001b[43mstream\u001b[49m\u001b[43m,\u001b[49m\u001b[43m \u001b[49m\u001b[43mstream_cls\u001b[49m\u001b[38;5;241;43m=\u001b[39;49m\u001b[43mstream_cls\u001b[49m\u001b[43m)\u001b[49m)\n",
      "File \u001b[0;32m/opt/miniconda3/envs/cite/lib/python3.12/site-packages/openai/_base_client.py:957\u001b[0m, in \u001b[0;36mSyncAPIClient.request\u001b[0;34m(self, cast_to, options, remaining_retries, stream, stream_cls)\u001b[0m\n\u001b[1;32m    954\u001b[0m \u001b[38;5;28;01melse\u001b[39;00m:\n\u001b[1;32m    955\u001b[0m     retries_taken \u001b[38;5;241m=\u001b[39m \u001b[38;5;241m0\u001b[39m\n\u001b[0;32m--> 957\u001b[0m \u001b[38;5;28;01mreturn\u001b[39;00m \u001b[38;5;28;43mself\u001b[39;49m\u001b[38;5;241;43m.\u001b[39;49m\u001b[43m_request\u001b[49m\u001b[43m(\u001b[49m\n\u001b[1;32m    958\u001b[0m \u001b[43m    \u001b[49m\u001b[43mcast_to\u001b[49m\u001b[38;5;241;43m=\u001b[39;49m\u001b[43mcast_to\u001b[49m\u001b[43m,\u001b[49m\n\u001b[1;32m    959\u001b[0m \u001b[43m    \u001b[49m\u001b[43moptions\u001b[49m\u001b[38;5;241;43m=\u001b[39;49m\u001b[43moptions\u001b[49m\u001b[43m,\u001b[49m\n\u001b[1;32m    960\u001b[0m \u001b[43m    \u001b[49m\u001b[43mstream\u001b[49m\u001b[38;5;241;43m=\u001b[39;49m\u001b[43mstream\u001b[49m\u001b[43m,\u001b[49m\n\u001b[1;32m    961\u001b[0m \u001b[43m    \u001b[49m\u001b[43mstream_cls\u001b[49m\u001b[38;5;241;43m=\u001b[39;49m\u001b[43mstream_cls\u001b[49m\u001b[43m,\u001b[49m\n\u001b[1;32m    962\u001b[0m \u001b[43m    \u001b[49m\u001b[43mretries_taken\u001b[49m\u001b[38;5;241;43m=\u001b[39;49m\u001b[43mretries_taken\u001b[49m\u001b[43m,\u001b[49m\n\u001b[1;32m    963\u001b[0m \u001b[43m\u001b[49m\u001b[43m)\u001b[49m\n",
      "File \u001b[0;32m/opt/miniconda3/envs/cite/lib/python3.12/site-packages/openai/_base_client.py:993\u001b[0m, in \u001b[0;36mSyncAPIClient._request\u001b[0;34m(self, cast_to, options, retries_taken, stream, stream_cls)\u001b[0m\n\u001b[1;32m    990\u001b[0m log\u001b[38;5;241m.\u001b[39mdebug(\u001b[38;5;124m\"\u001b[39m\u001b[38;5;124mSending HTTP Request: \u001b[39m\u001b[38;5;132;01m%s\u001b[39;00m\u001b[38;5;124m \u001b[39m\u001b[38;5;132;01m%s\u001b[39;00m\u001b[38;5;124m\"\u001b[39m, request\u001b[38;5;241m.\u001b[39mmethod, request\u001b[38;5;241m.\u001b[39murl)\n\u001b[1;32m    992\u001b[0m \u001b[38;5;28;01mtry\u001b[39;00m:\n\u001b[0;32m--> 993\u001b[0m     response \u001b[38;5;241m=\u001b[39m \u001b[38;5;28;43mself\u001b[39;49m\u001b[38;5;241;43m.\u001b[39;49m\u001b[43m_client\u001b[49m\u001b[38;5;241;43m.\u001b[39;49m\u001b[43msend\u001b[49m\u001b[43m(\u001b[49m\n\u001b[1;32m    994\u001b[0m \u001b[43m        \u001b[49m\u001b[43mrequest\u001b[49m\u001b[43m,\u001b[49m\n\u001b[1;32m    995\u001b[0m \u001b[43m        \u001b[49m\u001b[43mstream\u001b[49m\u001b[38;5;241;43m=\u001b[39;49m\u001b[43mstream\u001b[49m\u001b[43m \u001b[49m\u001b[38;5;129;43;01mor\u001b[39;49;00m\u001b[43m \u001b[49m\u001b[38;5;28;43mself\u001b[39;49m\u001b[38;5;241;43m.\u001b[39;49m\u001b[43m_should_stream_response_body\u001b[49m\u001b[43m(\u001b[49m\u001b[43mrequest\u001b[49m\u001b[38;5;241;43m=\u001b[39;49m\u001b[43mrequest\u001b[49m\u001b[43m)\u001b[49m\u001b[43m,\u001b[49m\n\u001b[1;32m    996\u001b[0m \u001b[43m        \u001b[49m\u001b[38;5;241;43m*\u001b[39;49m\u001b[38;5;241;43m*\u001b[39;49m\u001b[43mkwargs\u001b[49m\u001b[43m,\u001b[49m\n\u001b[1;32m    997\u001b[0m \u001b[43m    \u001b[49m\u001b[43m)\u001b[49m\n\u001b[1;32m    998\u001b[0m \u001b[38;5;28;01mexcept\u001b[39;00m httpx\u001b[38;5;241m.\u001b[39mTimeoutException \u001b[38;5;28;01mas\u001b[39;00m err:\n\u001b[1;32m    999\u001b[0m     log\u001b[38;5;241m.\u001b[39mdebug(\u001b[38;5;124m\"\u001b[39m\u001b[38;5;124mEncountered httpx.TimeoutException\u001b[39m\u001b[38;5;124m\"\u001b[39m, exc_info\u001b[38;5;241m=\u001b[39m\u001b[38;5;28;01mTrue\u001b[39;00m)\n",
      "File \u001b[0;32m/opt/miniconda3/envs/cite/lib/python3.12/site-packages/httpx/_client.py:916\u001b[0m, in \u001b[0;36mClient.send\u001b[0;34m(self, request, stream, auth, follow_redirects)\u001b[0m\n\u001b[1;32m    912\u001b[0m \u001b[38;5;28mself\u001b[39m\u001b[38;5;241m.\u001b[39m_set_timeout(request)\n\u001b[1;32m    914\u001b[0m auth \u001b[38;5;241m=\u001b[39m \u001b[38;5;28mself\u001b[39m\u001b[38;5;241m.\u001b[39m_build_request_auth(request, auth)\n\u001b[0;32m--> 916\u001b[0m response \u001b[38;5;241m=\u001b[39m \u001b[38;5;28;43mself\u001b[39;49m\u001b[38;5;241;43m.\u001b[39;49m\u001b[43m_send_handling_auth\u001b[49m\u001b[43m(\u001b[49m\n\u001b[1;32m    917\u001b[0m \u001b[43m    \u001b[49m\u001b[43mrequest\u001b[49m\u001b[43m,\u001b[49m\n\u001b[1;32m    918\u001b[0m \u001b[43m    \u001b[49m\u001b[43mauth\u001b[49m\u001b[38;5;241;43m=\u001b[39;49m\u001b[43mauth\u001b[49m\u001b[43m,\u001b[49m\n\u001b[1;32m    919\u001b[0m \u001b[43m    \u001b[49m\u001b[43mfollow_redirects\u001b[49m\u001b[38;5;241;43m=\u001b[39;49m\u001b[43mfollow_redirects\u001b[49m\u001b[43m,\u001b[49m\n\u001b[1;32m    920\u001b[0m \u001b[43m    \u001b[49m\u001b[43mhistory\u001b[49m\u001b[38;5;241;43m=\u001b[39;49m\u001b[43m[\u001b[49m\u001b[43m]\u001b[49m\u001b[43m,\u001b[49m\n\u001b[1;32m    921\u001b[0m \u001b[43m\u001b[49m\u001b[43m)\u001b[49m\n\u001b[1;32m    922\u001b[0m \u001b[38;5;28;01mtry\u001b[39;00m:\n\u001b[1;32m    923\u001b[0m     \u001b[38;5;28;01mif\u001b[39;00m \u001b[38;5;129;01mnot\u001b[39;00m stream:\n",
      "File \u001b[0;32m/opt/miniconda3/envs/cite/lib/python3.12/site-packages/httpx/_client.py:944\u001b[0m, in \u001b[0;36mClient._send_handling_auth\u001b[0;34m(self, request, auth, follow_redirects, history)\u001b[0m\n\u001b[1;32m    941\u001b[0m request \u001b[38;5;241m=\u001b[39m \u001b[38;5;28mnext\u001b[39m(auth_flow)\n\u001b[1;32m    943\u001b[0m \u001b[38;5;28;01mwhile\u001b[39;00m \u001b[38;5;28;01mTrue\u001b[39;00m:\n\u001b[0;32m--> 944\u001b[0m     response \u001b[38;5;241m=\u001b[39m \u001b[38;5;28;43mself\u001b[39;49m\u001b[38;5;241;43m.\u001b[39;49m\u001b[43m_send_handling_redirects\u001b[49m\u001b[43m(\u001b[49m\n\u001b[1;32m    945\u001b[0m \u001b[43m        \u001b[49m\u001b[43mrequest\u001b[49m\u001b[43m,\u001b[49m\n\u001b[1;32m    946\u001b[0m \u001b[43m        \u001b[49m\u001b[43mfollow_redirects\u001b[49m\u001b[38;5;241;43m=\u001b[39;49m\u001b[43mfollow_redirects\u001b[49m\u001b[43m,\u001b[49m\n\u001b[1;32m    947\u001b[0m \u001b[43m        \u001b[49m\u001b[43mhistory\u001b[49m\u001b[38;5;241;43m=\u001b[39;49m\u001b[43mhistory\u001b[49m\u001b[43m,\u001b[49m\n\u001b[1;32m    948\u001b[0m \u001b[43m    \u001b[49m\u001b[43m)\u001b[49m\n\u001b[1;32m    949\u001b[0m     \u001b[38;5;28;01mtry\u001b[39;00m:\n\u001b[1;32m    950\u001b[0m         \u001b[38;5;28;01mtry\u001b[39;00m:\n",
      "File \u001b[0;32m/opt/miniconda3/envs/cite/lib/python3.12/site-packages/httpx/_client.py:981\u001b[0m, in \u001b[0;36mClient._send_handling_redirects\u001b[0;34m(self, request, follow_redirects, history)\u001b[0m\n\u001b[1;32m    978\u001b[0m \u001b[38;5;28;01mfor\u001b[39;00m hook \u001b[38;5;129;01min\u001b[39;00m \u001b[38;5;28mself\u001b[39m\u001b[38;5;241m.\u001b[39m_event_hooks[\u001b[38;5;124m\"\u001b[39m\u001b[38;5;124mrequest\u001b[39m\u001b[38;5;124m\"\u001b[39m]:\n\u001b[1;32m    979\u001b[0m     hook(request)\n\u001b[0;32m--> 981\u001b[0m response \u001b[38;5;241m=\u001b[39m \u001b[38;5;28;43mself\u001b[39;49m\u001b[38;5;241;43m.\u001b[39;49m\u001b[43m_send_single_request\u001b[49m\u001b[43m(\u001b[49m\u001b[43mrequest\u001b[49m\u001b[43m)\u001b[49m\n\u001b[1;32m    982\u001b[0m \u001b[38;5;28;01mtry\u001b[39;00m:\n\u001b[1;32m    983\u001b[0m     \u001b[38;5;28;01mfor\u001b[39;00m hook \u001b[38;5;129;01min\u001b[39;00m \u001b[38;5;28mself\u001b[39m\u001b[38;5;241m.\u001b[39m_event_hooks[\u001b[38;5;124m\"\u001b[39m\u001b[38;5;124mresponse\u001b[39m\u001b[38;5;124m\"\u001b[39m]:\n",
      "File \u001b[0;32m/opt/miniconda3/envs/cite/lib/python3.12/site-packages/httpx/_client.py:1016\u001b[0m, in \u001b[0;36mClient._send_single_request\u001b[0;34m(self, request)\u001b[0m\n\u001b[1;32m   1011\u001b[0m     \u001b[38;5;28;01mraise\u001b[39;00m \u001b[38;5;167;01mRuntimeError\u001b[39;00m(\n\u001b[1;32m   1012\u001b[0m         \u001b[38;5;124m\"\u001b[39m\u001b[38;5;124mAttempted to send an async request with a sync Client instance.\u001b[39m\u001b[38;5;124m\"\u001b[39m\n\u001b[1;32m   1013\u001b[0m     )\n\u001b[1;32m   1015\u001b[0m \u001b[38;5;28;01mwith\u001b[39;00m request_context(request\u001b[38;5;241m=\u001b[39mrequest):\n\u001b[0;32m-> 1016\u001b[0m     response \u001b[38;5;241m=\u001b[39m \u001b[43mtransport\u001b[49m\u001b[38;5;241;43m.\u001b[39;49m\u001b[43mhandle_request\u001b[49m\u001b[43m(\u001b[49m\u001b[43mrequest\u001b[49m\u001b[43m)\u001b[49m\n\u001b[1;32m   1018\u001b[0m \u001b[38;5;28;01massert\u001b[39;00m \u001b[38;5;28misinstance\u001b[39m(response\u001b[38;5;241m.\u001b[39mstream, SyncByteStream)\n\u001b[1;32m   1020\u001b[0m response\u001b[38;5;241m.\u001b[39mrequest \u001b[38;5;241m=\u001b[39m request\n",
      "File \u001b[0;32m/opt/miniconda3/envs/cite/lib/python3.12/site-packages/httpx/_transports/default.py:250\u001b[0m, in \u001b[0;36mHTTPTransport.handle_request\u001b[0;34m(self, request)\u001b[0m\n\u001b[1;32m    237\u001b[0m req \u001b[38;5;241m=\u001b[39m httpcore\u001b[38;5;241m.\u001b[39mRequest(\n\u001b[1;32m    238\u001b[0m     method\u001b[38;5;241m=\u001b[39mrequest\u001b[38;5;241m.\u001b[39mmethod,\n\u001b[1;32m    239\u001b[0m     url\u001b[38;5;241m=\u001b[39mhttpcore\u001b[38;5;241m.\u001b[39mURL(\n\u001b[0;32m   (...)\u001b[0m\n\u001b[1;32m    247\u001b[0m     extensions\u001b[38;5;241m=\u001b[39mrequest\u001b[38;5;241m.\u001b[39mextensions,\n\u001b[1;32m    248\u001b[0m )\n\u001b[1;32m    249\u001b[0m \u001b[38;5;28;01mwith\u001b[39;00m map_httpcore_exceptions():\n\u001b[0;32m--> 250\u001b[0m     resp \u001b[38;5;241m=\u001b[39m \u001b[38;5;28;43mself\u001b[39;49m\u001b[38;5;241;43m.\u001b[39;49m\u001b[43m_pool\u001b[49m\u001b[38;5;241;43m.\u001b[39;49m\u001b[43mhandle_request\u001b[49m\u001b[43m(\u001b[49m\u001b[43mreq\u001b[49m\u001b[43m)\u001b[49m\n\u001b[1;32m    252\u001b[0m \u001b[38;5;28;01massert\u001b[39;00m \u001b[38;5;28misinstance\u001b[39m(resp\u001b[38;5;241m.\u001b[39mstream, typing\u001b[38;5;241m.\u001b[39mIterable)\n\u001b[1;32m    254\u001b[0m \u001b[38;5;28;01mreturn\u001b[39;00m Response(\n\u001b[1;32m    255\u001b[0m     status_code\u001b[38;5;241m=\u001b[39mresp\u001b[38;5;241m.\u001b[39mstatus,\n\u001b[1;32m    256\u001b[0m     headers\u001b[38;5;241m=\u001b[39mresp\u001b[38;5;241m.\u001b[39mheaders,\n\u001b[1;32m    257\u001b[0m     stream\u001b[38;5;241m=\u001b[39mResponseStream(resp\u001b[38;5;241m.\u001b[39mstream),\n\u001b[1;32m    258\u001b[0m     extensions\u001b[38;5;241m=\u001b[39mresp\u001b[38;5;241m.\u001b[39mextensions,\n\u001b[1;32m    259\u001b[0m )\n",
      "File \u001b[0;32m/opt/miniconda3/envs/cite/lib/python3.12/site-packages/httpcore/_sync/connection_pool.py:256\u001b[0m, in \u001b[0;36mConnectionPool.handle_request\u001b[0;34m(self, request)\u001b[0m\n\u001b[1;32m    253\u001b[0m         closing \u001b[38;5;241m=\u001b[39m \u001b[38;5;28mself\u001b[39m\u001b[38;5;241m.\u001b[39m_assign_requests_to_connections()\n\u001b[1;32m    255\u001b[0m     \u001b[38;5;28mself\u001b[39m\u001b[38;5;241m.\u001b[39m_close_connections(closing)\n\u001b[0;32m--> 256\u001b[0m     \u001b[38;5;28;01mraise\u001b[39;00m exc \u001b[38;5;28;01mfrom\u001b[39;00m \u001b[38;5;28;01mNone\u001b[39;00m\n\u001b[1;32m    258\u001b[0m \u001b[38;5;66;03m# Return the response. Note that in this case we still have to manage\u001b[39;00m\n\u001b[1;32m    259\u001b[0m \u001b[38;5;66;03m# the point at which the response is closed.\u001b[39;00m\n\u001b[1;32m    260\u001b[0m \u001b[38;5;28;01massert\u001b[39;00m \u001b[38;5;28misinstance\u001b[39m(response\u001b[38;5;241m.\u001b[39mstream, typing\u001b[38;5;241m.\u001b[39mIterable)\n",
      "File \u001b[0;32m/opt/miniconda3/envs/cite/lib/python3.12/site-packages/httpcore/_sync/connection_pool.py:236\u001b[0m, in \u001b[0;36mConnectionPool.handle_request\u001b[0;34m(self, request)\u001b[0m\n\u001b[1;32m    232\u001b[0m connection \u001b[38;5;241m=\u001b[39m pool_request\u001b[38;5;241m.\u001b[39mwait_for_connection(timeout\u001b[38;5;241m=\u001b[39mtimeout)\n\u001b[1;32m    234\u001b[0m \u001b[38;5;28;01mtry\u001b[39;00m:\n\u001b[1;32m    235\u001b[0m     \u001b[38;5;66;03m# Send the request on the assigned connection.\u001b[39;00m\n\u001b[0;32m--> 236\u001b[0m     response \u001b[38;5;241m=\u001b[39m \u001b[43mconnection\u001b[49m\u001b[38;5;241;43m.\u001b[39;49m\u001b[43mhandle_request\u001b[49m\u001b[43m(\u001b[49m\n\u001b[1;32m    237\u001b[0m \u001b[43m        \u001b[49m\u001b[43mpool_request\u001b[49m\u001b[38;5;241;43m.\u001b[39;49m\u001b[43mrequest\u001b[49m\n\u001b[1;32m    238\u001b[0m \u001b[43m    \u001b[49m\u001b[43m)\u001b[49m\n\u001b[1;32m    239\u001b[0m \u001b[38;5;28;01mexcept\u001b[39;00m ConnectionNotAvailable:\n\u001b[1;32m    240\u001b[0m     \u001b[38;5;66;03m# In some cases a connection may initially be available to\u001b[39;00m\n\u001b[1;32m    241\u001b[0m     \u001b[38;5;66;03m# handle a request, but then become unavailable.\u001b[39;00m\n\u001b[1;32m    242\u001b[0m     \u001b[38;5;66;03m#\u001b[39;00m\n\u001b[1;32m    243\u001b[0m     \u001b[38;5;66;03m# In this case we clear the connection and try again.\u001b[39;00m\n\u001b[1;32m    244\u001b[0m     pool_request\u001b[38;5;241m.\u001b[39mclear_connection()\n",
      "File \u001b[0;32m/opt/miniconda3/envs/cite/lib/python3.12/site-packages/httpcore/_sync/connection.py:103\u001b[0m, in \u001b[0;36mHTTPConnection.handle_request\u001b[0;34m(self, request)\u001b[0m\n\u001b[1;32m    100\u001b[0m     \u001b[38;5;28mself\u001b[39m\u001b[38;5;241m.\u001b[39m_connect_failed \u001b[38;5;241m=\u001b[39m \u001b[38;5;28;01mTrue\u001b[39;00m\n\u001b[1;32m    101\u001b[0m     \u001b[38;5;28;01mraise\u001b[39;00m exc\n\u001b[0;32m--> 103\u001b[0m \u001b[38;5;28;01mreturn\u001b[39;00m \u001b[38;5;28;43mself\u001b[39;49m\u001b[38;5;241;43m.\u001b[39;49m\u001b[43m_connection\u001b[49m\u001b[38;5;241;43m.\u001b[39;49m\u001b[43mhandle_request\u001b[49m\u001b[43m(\u001b[49m\u001b[43mrequest\u001b[49m\u001b[43m)\u001b[49m\n",
      "File \u001b[0;32m/opt/miniconda3/envs/cite/lib/python3.12/site-packages/httpcore/_sync/http11.py:136\u001b[0m, in \u001b[0;36mHTTP11Connection.handle_request\u001b[0;34m(self, request)\u001b[0m\n\u001b[1;32m    134\u001b[0m     \u001b[38;5;28;01mwith\u001b[39;00m Trace(\u001b[38;5;124m\"\u001b[39m\u001b[38;5;124mresponse_closed\u001b[39m\u001b[38;5;124m\"\u001b[39m, logger, request) \u001b[38;5;28;01mas\u001b[39;00m trace:\n\u001b[1;32m    135\u001b[0m         \u001b[38;5;28mself\u001b[39m\u001b[38;5;241m.\u001b[39m_response_closed()\n\u001b[0;32m--> 136\u001b[0m \u001b[38;5;28;01mraise\u001b[39;00m exc\n",
      "File \u001b[0;32m/opt/miniconda3/envs/cite/lib/python3.12/site-packages/httpcore/_sync/http11.py:106\u001b[0m, in \u001b[0;36mHTTP11Connection.handle_request\u001b[0;34m(self, request)\u001b[0m\n\u001b[1;32m     95\u001b[0m     \u001b[38;5;28;01mpass\u001b[39;00m\n\u001b[1;32m     97\u001b[0m \u001b[38;5;28;01mwith\u001b[39;00m Trace(\n\u001b[1;32m     98\u001b[0m     \u001b[38;5;124m\"\u001b[39m\u001b[38;5;124mreceive_response_headers\u001b[39m\u001b[38;5;124m\"\u001b[39m, logger, request, kwargs\n\u001b[1;32m     99\u001b[0m ) \u001b[38;5;28;01mas\u001b[39;00m trace:\n\u001b[1;32m    100\u001b[0m     (\n\u001b[1;32m    101\u001b[0m         http_version,\n\u001b[1;32m    102\u001b[0m         status,\n\u001b[1;32m    103\u001b[0m         reason_phrase,\n\u001b[1;32m    104\u001b[0m         headers,\n\u001b[1;32m    105\u001b[0m         trailing_data,\n\u001b[0;32m--> 106\u001b[0m     ) \u001b[38;5;241m=\u001b[39m \u001b[38;5;28;43mself\u001b[39;49m\u001b[38;5;241;43m.\u001b[39;49m\u001b[43m_receive_response_headers\u001b[49m\u001b[43m(\u001b[49m\u001b[38;5;241;43m*\u001b[39;49m\u001b[38;5;241;43m*\u001b[39;49m\u001b[43mkwargs\u001b[49m\u001b[43m)\u001b[49m\n\u001b[1;32m    107\u001b[0m     trace\u001b[38;5;241m.\u001b[39mreturn_value \u001b[38;5;241m=\u001b[39m (\n\u001b[1;32m    108\u001b[0m         http_version,\n\u001b[1;32m    109\u001b[0m         status,\n\u001b[1;32m    110\u001b[0m         reason_phrase,\n\u001b[1;32m    111\u001b[0m         headers,\n\u001b[1;32m    112\u001b[0m     )\n\u001b[1;32m    114\u001b[0m network_stream \u001b[38;5;241m=\u001b[39m \u001b[38;5;28mself\u001b[39m\u001b[38;5;241m.\u001b[39m_network_stream\n",
      "File \u001b[0;32m/opt/miniconda3/envs/cite/lib/python3.12/site-packages/httpcore/_sync/http11.py:177\u001b[0m, in \u001b[0;36mHTTP11Connection._receive_response_headers\u001b[0;34m(self, request)\u001b[0m\n\u001b[1;32m    174\u001b[0m timeout \u001b[38;5;241m=\u001b[39m timeouts\u001b[38;5;241m.\u001b[39mget(\u001b[38;5;124m\"\u001b[39m\u001b[38;5;124mread\u001b[39m\u001b[38;5;124m\"\u001b[39m, \u001b[38;5;28;01mNone\u001b[39;00m)\n\u001b[1;32m    176\u001b[0m \u001b[38;5;28;01mwhile\u001b[39;00m \u001b[38;5;28;01mTrue\u001b[39;00m:\n\u001b[0;32m--> 177\u001b[0m     event \u001b[38;5;241m=\u001b[39m \u001b[38;5;28;43mself\u001b[39;49m\u001b[38;5;241;43m.\u001b[39;49m\u001b[43m_receive_event\u001b[49m\u001b[43m(\u001b[49m\u001b[43mtimeout\u001b[49m\u001b[38;5;241;43m=\u001b[39;49m\u001b[43mtimeout\u001b[49m\u001b[43m)\u001b[49m\n\u001b[1;32m    178\u001b[0m     \u001b[38;5;28;01mif\u001b[39;00m \u001b[38;5;28misinstance\u001b[39m(event, h11\u001b[38;5;241m.\u001b[39mResponse):\n\u001b[1;32m    179\u001b[0m         \u001b[38;5;28;01mbreak\u001b[39;00m\n",
      "File \u001b[0;32m/opt/miniconda3/envs/cite/lib/python3.12/site-packages/httpcore/_sync/http11.py:217\u001b[0m, in \u001b[0;36mHTTP11Connection._receive_event\u001b[0;34m(self, timeout)\u001b[0m\n\u001b[1;32m    214\u001b[0m     event \u001b[38;5;241m=\u001b[39m \u001b[38;5;28mself\u001b[39m\u001b[38;5;241m.\u001b[39m_h11_state\u001b[38;5;241m.\u001b[39mnext_event()\n\u001b[1;32m    216\u001b[0m \u001b[38;5;28;01mif\u001b[39;00m event \u001b[38;5;129;01mis\u001b[39;00m h11\u001b[38;5;241m.\u001b[39mNEED_DATA:\n\u001b[0;32m--> 217\u001b[0m     data \u001b[38;5;241m=\u001b[39m \u001b[38;5;28;43mself\u001b[39;49m\u001b[38;5;241;43m.\u001b[39;49m\u001b[43m_network_stream\u001b[49m\u001b[38;5;241;43m.\u001b[39;49m\u001b[43mread\u001b[49m\u001b[43m(\u001b[49m\n\u001b[1;32m    218\u001b[0m \u001b[43m        \u001b[49m\u001b[38;5;28;43mself\u001b[39;49m\u001b[38;5;241;43m.\u001b[39;49m\u001b[43mREAD_NUM_BYTES\u001b[49m\u001b[43m,\u001b[49m\u001b[43m \u001b[49m\u001b[43mtimeout\u001b[49m\u001b[38;5;241;43m=\u001b[39;49m\u001b[43mtimeout\u001b[49m\n\u001b[1;32m    219\u001b[0m \u001b[43m    \u001b[49m\u001b[43m)\u001b[49m\n\u001b[1;32m    221\u001b[0m     \u001b[38;5;66;03m# If we feed this case through h11 we'll raise an exception like:\u001b[39;00m\n\u001b[1;32m    222\u001b[0m     \u001b[38;5;66;03m#\u001b[39;00m\n\u001b[1;32m    223\u001b[0m     \u001b[38;5;66;03m#     httpcore.RemoteProtocolError: can't handle event type\u001b[39;00m\n\u001b[0;32m   (...)\u001b[0m\n\u001b[1;32m    227\u001b[0m     \u001b[38;5;66;03m# perspective. Instead we handle this case distinctly and treat\u001b[39;00m\n\u001b[1;32m    228\u001b[0m     \u001b[38;5;66;03m# it as a ConnectError.\u001b[39;00m\n\u001b[1;32m    229\u001b[0m     \u001b[38;5;28;01mif\u001b[39;00m data \u001b[38;5;241m==\u001b[39m \u001b[38;5;124mb\u001b[39m\u001b[38;5;124m\"\u001b[39m\u001b[38;5;124m\"\u001b[39m \u001b[38;5;129;01mand\u001b[39;00m \u001b[38;5;28mself\u001b[39m\u001b[38;5;241m.\u001b[39m_h11_state\u001b[38;5;241m.\u001b[39mtheir_state \u001b[38;5;241m==\u001b[39m h11\u001b[38;5;241m.\u001b[39mSEND_RESPONSE:\n",
      "File \u001b[0;32m/opt/miniconda3/envs/cite/lib/python3.12/site-packages/httpcore/_backends/sync.py:128\u001b[0m, in \u001b[0;36mSyncStream.read\u001b[0;34m(self, max_bytes, timeout)\u001b[0m\n\u001b[1;32m    126\u001b[0m \u001b[38;5;28;01mwith\u001b[39;00m map_exceptions(exc_map):\n\u001b[1;32m    127\u001b[0m     \u001b[38;5;28mself\u001b[39m\u001b[38;5;241m.\u001b[39m_sock\u001b[38;5;241m.\u001b[39msettimeout(timeout)\n\u001b[0;32m--> 128\u001b[0m     \u001b[38;5;28;01mreturn\u001b[39;00m \u001b[38;5;28;43mself\u001b[39;49m\u001b[38;5;241;43m.\u001b[39;49m\u001b[43m_sock\u001b[49m\u001b[38;5;241;43m.\u001b[39;49m\u001b[43mrecv\u001b[49m\u001b[43m(\u001b[49m\u001b[43mmax_bytes\u001b[49m\u001b[43m)\u001b[49m\n",
      "File \u001b[0;32m/opt/miniconda3/envs/cite/lib/python3.12/ssl.py:1232\u001b[0m, in \u001b[0;36mSSLSocket.recv\u001b[0;34m(self, buflen, flags)\u001b[0m\n\u001b[1;32m   1228\u001b[0m     \u001b[38;5;28;01mif\u001b[39;00m flags \u001b[38;5;241m!=\u001b[39m \u001b[38;5;241m0\u001b[39m:\n\u001b[1;32m   1229\u001b[0m         \u001b[38;5;28;01mraise\u001b[39;00m \u001b[38;5;167;01mValueError\u001b[39;00m(\n\u001b[1;32m   1230\u001b[0m             \u001b[38;5;124m\"\u001b[39m\u001b[38;5;124mnon-zero flags not allowed in calls to recv() on \u001b[39m\u001b[38;5;132;01m%s\u001b[39;00m\u001b[38;5;124m\"\u001b[39m \u001b[38;5;241m%\u001b[39m\n\u001b[1;32m   1231\u001b[0m             \u001b[38;5;28mself\u001b[39m\u001b[38;5;241m.\u001b[39m\u001b[38;5;18m__class__\u001b[39m)\n\u001b[0;32m-> 1232\u001b[0m     \u001b[38;5;28;01mreturn\u001b[39;00m \u001b[38;5;28;43mself\u001b[39;49m\u001b[38;5;241;43m.\u001b[39;49m\u001b[43mread\u001b[49m\u001b[43m(\u001b[49m\u001b[43mbuflen\u001b[49m\u001b[43m)\u001b[49m\n\u001b[1;32m   1233\u001b[0m \u001b[38;5;28;01melse\u001b[39;00m:\n\u001b[1;32m   1234\u001b[0m     \u001b[38;5;28;01mreturn\u001b[39;00m \u001b[38;5;28msuper\u001b[39m()\u001b[38;5;241m.\u001b[39mrecv(buflen, flags)\n",
      "File \u001b[0;32m/opt/miniconda3/envs/cite/lib/python3.12/ssl.py:1105\u001b[0m, in \u001b[0;36mSSLSocket.read\u001b[0;34m(self, len, buffer)\u001b[0m\n\u001b[1;32m   1103\u001b[0m         \u001b[38;5;28;01mreturn\u001b[39;00m \u001b[38;5;28mself\u001b[39m\u001b[38;5;241m.\u001b[39m_sslobj\u001b[38;5;241m.\u001b[39mread(\u001b[38;5;28mlen\u001b[39m, buffer)\n\u001b[1;32m   1104\u001b[0m     \u001b[38;5;28;01melse\u001b[39;00m:\n\u001b[0;32m-> 1105\u001b[0m         \u001b[38;5;28;01mreturn\u001b[39;00m \u001b[38;5;28;43mself\u001b[39;49m\u001b[38;5;241;43m.\u001b[39;49m\u001b[43m_sslobj\u001b[49m\u001b[38;5;241;43m.\u001b[39;49m\u001b[43mread\u001b[49m\u001b[43m(\u001b[49m\u001b[38;5;28;43mlen\u001b[39;49m\u001b[43m)\u001b[49m\n\u001b[1;32m   1106\u001b[0m \u001b[38;5;28;01mexcept\u001b[39;00m SSLError \u001b[38;5;28;01mas\u001b[39;00m x:\n\u001b[1;32m   1107\u001b[0m     \u001b[38;5;28;01mif\u001b[39;00m x\u001b[38;5;241m.\u001b[39margs[\u001b[38;5;241m0\u001b[39m] \u001b[38;5;241m==\u001b[39m SSL_ERROR_EOF \u001b[38;5;129;01mand\u001b[39;00m \u001b[38;5;28mself\u001b[39m\u001b[38;5;241m.\u001b[39msuppress_ragged_eofs:\n",
      "\u001b[0;31mKeyboardInterrupt\u001b[0m: "
     ]
    }
   ],
   "source": [
    "# Load the JSON data\n",
    "with open(\"entailment_eval.json\", \"r\") as f:\n",
    "    json_data = json.load(f)\n",
    "    \n",
    "accuracy = eval_gpt4o_scores(json_data)\n"
   ]
  },
  {
   "cell_type": "code",
   "execution_count": 39,
   "metadata": {},
   "outputs": [
    {
     "name": "stdout",
     "output_type": "stream",
     "text": [
      "Accuracy of GPT-4o as Entailment Judge:  0.6190476190476191\n"
     ]
    }
   ],
   "source": [
    "print(\"Accuracy of GPT-4o as Entailment Judge: \", accuracy)"
   ]
  },
  {
   "cell_type": "code",
   "execution_count": null,
   "metadata": {},
   "outputs": [],
   "source": []
  },
  {
   "cell_type": "code",
   "execution_count": null,
   "metadata": {},
   "outputs": [],
   "source": []
  }
 ],
 "metadata": {
  "kernelspec": {
   "display_name": "cite",
   "language": "python",
   "name": "python3"
  },
  "language_info": {
   "codemirror_mode": {
    "name": "ipython",
    "version": 3
   },
   "file_extension": ".py",
   "mimetype": "text/x-python",
   "name": "python",
   "nbconvert_exporter": "python",
   "pygments_lexer": "ipython3",
   "version": "3.12.8"
  }
 },
 "nbformat": 4,
 "nbformat_minor": 2
}
